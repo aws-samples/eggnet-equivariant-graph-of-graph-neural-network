{
 "cells": [
  {
   "cell_type": "markdown",
   "id": "7f077a29",
   "metadata": {},
   "source": [
    "# EDA and data split for Propedia \n",
    "\n",
    "Positive data downloaded from http://bioinfo.dcc.ufmg.br/propedia/download"
   ]
  },
  {
   "cell_type": "code",
   "execution_count": 1,
   "id": "66c419e8",
   "metadata": {},
   "outputs": [],
   "source": [
    "import os\n",
    "import pandas as pd\n",
    "import numpy as np\n",
    "import matplotlib.pyplot as plt\n",
    "import seaborn as sns"
   ]
  },
  {
   "cell_type": "code",
   "execution_count": 2,
   "id": "b27a5b5b",
   "metadata": {},
   "outputs": [],
   "source": [
    "DATA_DIR = '/home/ec2-user/SageMaker/efs/data/Propedia'"
   ]
  },
  {
   "cell_type": "code",
   "execution_count": 3,
   "id": "af6c193d",
   "metadata": {},
   "outputs": [
    {
     "data": {
      "text/plain": [
       "'/home/ec2-user/SageMaker/efs/data/Propedia'"
      ]
     },
     "execution_count": 3,
     "metadata": {},
     "output_type": "execute_result"
    }
   ],
   "source": [
    "os.path.dirname('/home/ec2-user/SageMaker/efs/data/Propedia/comlpex.csv')"
   ]
  },
  {
   "cell_type": "code",
   "execution_count": 4,
   "id": "16ca47c7",
   "metadata": {},
   "outputs": [
    {
     "name": "stdout",
     "output_type": "stream",
     "text": [
      "total 2600656\n",
      "-rw-rw-r-- 1 ec2-user ec2-user  11717752 Jun 23  2020 complex.csv\n",
      "-rw-rw-r-- 1 ec2-user ec2-user 859605251 Jun 23  2020 complex.zip\n",
      "-rw-rw-r-- 1 ec2-user ec2-user  19405862 Sep 14 16:42 full_09132022.csv\n",
      "-rw-rw-r-- 1 ec2-user ec2-user    107077 Sep 14 15:30 non_canonical_peptides_in_propedia.csv\n",
      "drwxr-xr-x 3 ec2-user ec2-user      6144 Sep 12 14:46 nr_aws_19k\n",
      "-rw-rw-r-- 1 ec2-user ec2-user 796005006 Sep 12 22:04 nr_aws_19k_docks.tar\n",
      "-rw-rw-r-- 1 ec2-user ec2-user   2118274 Jun 16  2020 peptide.fasta\n",
      "-rw-rw-r-- 1 ec2-user ec2-user  42595167 Jun 23  2020 peptide.zip\n",
      "drwxr-xr-x 3 ec2-user ec2-user      6144 Sep  6 23:11 propedia_aws_19k\n",
      "-rw-rw-r-- 1 ec2-user ec2-user 812583503 Sep  7 19:46 propedia_aws_19k.tar\n",
      "-rw-rw-r-- 1 ec2-user ec2-user   6240386 Jun 16  2020 receptor.fasta\n",
      "-rw-rw-r-- 1 ec2-user ec2-user     15563 Sep 19 15:21 rmsd_refined_data_test.csv\n",
      "-rw-rw-r-- 1 ec2-user ec2-user     76439 Sep 19 15:21 rmsd_refined_data_train.csv\n",
      "drwxr-xr-x 3 ec2-user ec2-user      6144 Sep 19 14:51 selfdock_test_aws\n",
      "-rw-rw-r-- 1 ec2-user ec2-user  15268192 Sep 19 15:21 selfdock_test_aws.tar\n",
      "drwxr-xr-x 3 ec2-user ec2-user      6144 Sep 19 14:52 selfdock_train_aws\n",
      "-rw-rw-r-- 1 ec2-user ec2-user  57923107 Sep 19 15:21 selfdock_train_aws.tar\n",
      "drwxrwxr-x 4 ec2-user ec2-user      6144 Sep  8 14:14 structures\n",
      "-rw-rw-r-- 1 ec2-user ec2-user   3867721 Sep 14 16:45 test_09132022.csv\n",
      "-rw-rw-r-- 1 ec2-user ec2-user   3867721 Sep 14 18:45 test_full.csv\n",
      "-rw-rw-r-- 1 ec2-user ec2-user    388186 Sep 14 18:49 test_small.csv\n",
      "-rw-rw-r-- 1 ec2-user ec2-user  14874148 Sep 14 16:44 train_09132022.csv\n",
      "-rw-rw-r-- 1 ec2-user ec2-user  14874148 Sep 14 18:45 train_full.csv\n",
      "-rw-rw-r-- 1 ec2-user ec2-user   1477400 Sep 14 18:49 train_small.csv\n"
     ]
    }
   ],
   "source": [
    "!ls -l {DATA_DIR}"
   ]
  },
  {
   "cell_type": "code",
   "execution_count": 5,
   "id": "6feb3059",
   "metadata": {},
   "outputs": [
    {
     "name": "stdout",
     "output_type": "stream",
     "text": [
      "19814 /home/ec2-user/SageMaker/efs/data/Propedia/complex.csv\n"
     ]
    }
   ],
   "source": [
    "!wc -l {DATA_DIR}/complex.csv"
   ]
  },
  {
   "cell_type": "code",
   "execution_count": 6,
   "id": "01640356",
   "metadata": {},
   "outputs": [],
   "source": [
    "pd.set_option('display.max_columns', None)"
   ]
  },
  {
   "cell_type": "code",
   "execution_count": 7,
   "id": "12dcfcce",
   "metadata": {},
   "outputs": [
    {
     "name": "stdout",
     "output_type": "stream",
     "text": [
      "(19813, 30)\n"
     ]
    },
    {
     "data": {
      "text/html": [
       "<div>\n",
       "<style scoped>\n",
       "    .dataframe tbody tr th:only-of-type {\n",
       "        vertical-align: middle;\n",
       "    }\n",
       "\n",
       "    .dataframe tbody tr th {\n",
       "        vertical-align: top;\n",
       "    }\n",
       "\n",
       "    .dataframe thead th {\n",
       "        text-align: right;\n",
       "    }\n",
       "</style>\n",
       "<table border=\"1\" class=\"dataframe\">\n",
       "  <thead>\n",
       "    <tr style=\"text-align: right;\">\n",
       "      <th></th>\n",
       "      <th>PDB</th>\n",
       "      <th>Protein Name</th>\n",
       "      <th>Resolution</th>\n",
       "      <th>Classification</th>\n",
       "      <th>ligand_chain_id</th>\n",
       "      <th>Peptide Size</th>\n",
       "      <th>Peptide Sequence</th>\n",
       "      <th>Peptide Description</th>\n",
       "      <th>Peptide Organism</th>\n",
       "      <th>Peptide Interface Area</th>\n",
       "      <th>Peptide Molecular Weight</th>\n",
       "      <th>Peptide Aromaticity</th>\n",
       "      <th>Peptide Instability</th>\n",
       "      <th>Peptide Isoelectric Point</th>\n",
       "      <th>receptor_chain_id</th>\n",
       "      <th>Receptor Size</th>\n",
       "      <th>Receptor Sequence</th>\n",
       "      <th>Receptor Description</th>\n",
       "      <th>Receptor Organism</th>\n",
       "      <th>Receptor Interface Area</th>\n",
       "      <th>Receptor Molecular Weight</th>\n",
       "      <th>Receptor Aromaticity</th>\n",
       "      <th>Receptor Instability</th>\n",
       "      <th>Receptor Isoelectric Point</th>\n",
       "      <th>Sequence Cluster</th>\n",
       "      <th>Is Sequence Cluster Centroid</th>\n",
       "      <th>Interface Cluster</th>\n",
       "      <th>Is Interface Cluster Centroid</th>\n",
       "      <th>Binding Cluster</th>\n",
       "      <th>Is Binding Cluster Centroid</th>\n",
       "    </tr>\n",
       "  </thead>\n",
       "  <tbody>\n",
       "    <tr>\n",
       "      <th>0</th>\n",
       "      <td>148l</td>\n",
       "      <td>A COVALENT ENZYME-SUBSTRATE INTERMEDIATE WITH ...</td>\n",
       "      <td>1.9</td>\n",
       "      <td>HYDROLASE/HYDROLASE SUBSTRATE</td>\n",
       "      <td>S</td>\n",
       "      <td>5</td>\n",
       "      <td>AXXXX</td>\n",
       "      <td>SUBSTRATE CLEAVED FROM CELL WALL OF ESCHERICHI...</td>\n",
       "      <td>Escherichia coli</td>\n",
       "      <td>151.70</td>\n",
       "      <td>-</td>\n",
       "      <td>0.0</td>\n",
       "      <td>-</td>\n",
       "      <td>5.57</td>\n",
       "      <td>E</td>\n",
       "      <td>163</td>\n",
       "      <td>MNIFEMLRIDEGLRLKIYKDTEGYYEIGIGHLLTKSPSLNAAKSEL...</td>\n",
       "      <td>T4 LYSOZYME</td>\n",
       "      <td>Escherichia virus T4</td>\n",
       "      <td>94.32</td>\n",
       "      <td>18515.99</td>\n",
       "      <td>0.09</td>\n",
       "      <td>37.30</td>\n",
       "      <td>9.66</td>\n",
       "      <td>NaN</td>\n",
       "      <td>NaN</td>\n",
       "      <td>NaN</td>\n",
       "      <td>NaN</td>\n",
       "      <td>NaN</td>\n",
       "      <td>NaN</td>\n",
       "    </tr>\n",
       "    <tr>\n",
       "      <th>1</th>\n",
       "      <td>1a07</td>\n",
       "      <td>C-SRC (SH2 DOMAIN) COMPLEXED WITH ACE-MALONYL ...</td>\n",
       "      <td>2.2</td>\n",
       "      <td>COMPLEX (TRANSFERASE/PEPTIDE)</td>\n",
       "      <td>C</td>\n",
       "      <td>3</td>\n",
       "      <td>XEX</td>\n",
       "      <td>ACE-MALONYL TYR-GLU-(N,N-DIPENTYL AMINE)</td>\n",
       "      <td>-</td>\n",
       "      <td>104.76</td>\n",
       "      <td>-</td>\n",
       "      <td>0.0</td>\n",
       "      <td>-</td>\n",
       "      <td>4.00</td>\n",
       "      <td>A</td>\n",
       "      <td>105</td>\n",
       "      <td>SIQAEEWYFGKITRRESERLLLNAENPRGTFLVRESETTKGAYCLS...</td>\n",
       "      <td>C-SRC TYROSINE KINASE</td>\n",
       "      <td>Homo sapiens</td>\n",
       "      <td>80.39</td>\n",
       "      <td>12039.45</td>\n",
       "      <td>0.11</td>\n",
       "      <td>40.24</td>\n",
       "      <td>9.07</td>\n",
       "      <td>NaN</td>\n",
       "      <td>NaN</td>\n",
       "      <td>NaN</td>\n",
       "      <td>NaN</td>\n",
       "      <td>NaN</td>\n",
       "      <td>NaN</td>\n",
       "    </tr>\n",
       "    <tr>\n",
       "      <th>2</th>\n",
       "      <td>1a07</td>\n",
       "      <td>C-SRC (SH2 DOMAIN) COMPLEXED WITH ACE-MALONYL ...</td>\n",
       "      <td>2.2</td>\n",
       "      <td>COMPLEX (TRANSFERASE/PEPTIDE)</td>\n",
       "      <td>D</td>\n",
       "      <td>3</td>\n",
       "      <td>XEX</td>\n",
       "      <td>ACE-MALONYL TYR-GLU-(N,N-DIPENTYL AMINE)</td>\n",
       "      <td>-</td>\n",
       "      <td>106.41</td>\n",
       "      <td>-</td>\n",
       "      <td>0.0</td>\n",
       "      <td>-</td>\n",
       "      <td>4.00</td>\n",
       "      <td>B</td>\n",
       "      <td>104</td>\n",
       "      <td>IQAEEWYFGKITRRESERLLLNAENPRGTFLVRESETTKGAYCLSV...</td>\n",
       "      <td>C-SRC TYROSINE KINASE</td>\n",
       "      <td>Homo sapiens</td>\n",
       "      <td>83.65</td>\n",
       "      <td>11952.37</td>\n",
       "      <td>0.12</td>\n",
       "      <td>40.53</td>\n",
       "      <td>9.08</td>\n",
       "      <td>NaN</td>\n",
       "      <td>NaN</td>\n",
       "      <td>NaN</td>\n",
       "      <td>NaN</td>\n",
       "      <td>NaN</td>\n",
       "      <td>NaN</td>\n",
       "    </tr>\n",
       "    <tr>\n",
       "      <th>3</th>\n",
       "      <td>1a08</td>\n",
       "      <td>C-SRC (SH2 DOMAIN) COMPLEXED WITH ACE-DIFLUORO...</td>\n",
       "      <td>2.2</td>\n",
       "      <td>COMPLEX (TRANSFERASE/PEPTIDE)</td>\n",
       "      <td>C</td>\n",
       "      <td>3</td>\n",
       "      <td>XEX</td>\n",
       "      <td>ACE-DIFLUORO PHOSPHOTYR-GLU-(N,N-DIPENTYL AMINE)</td>\n",
       "      <td>-</td>\n",
       "      <td>107.21</td>\n",
       "      <td>-</td>\n",
       "      <td>0.0</td>\n",
       "      <td>-</td>\n",
       "      <td>4.00</td>\n",
       "      <td>A</td>\n",
       "      <td>105</td>\n",
       "      <td>SIQAEEWYFGKITRRESERLLLNAENPRGTFLVRESETTKGAYCLS...</td>\n",
       "      <td>C-SRC TYROSINE KINASE</td>\n",
       "      <td>Homo sapiens</td>\n",
       "      <td>81.86</td>\n",
       "      <td>12039.45</td>\n",
       "      <td>0.11</td>\n",
       "      <td>40.24</td>\n",
       "      <td>9.07</td>\n",
       "      <td>NaN</td>\n",
       "      <td>NaN</td>\n",
       "      <td>NaN</td>\n",
       "      <td>NaN</td>\n",
       "      <td>NaN</td>\n",
       "      <td>NaN</td>\n",
       "    </tr>\n",
       "    <tr>\n",
       "      <th>4</th>\n",
       "      <td>1a08</td>\n",
       "      <td>C-SRC (SH2 DOMAIN) COMPLEXED WITH ACE-DIFLUORO...</td>\n",
       "      <td>2.2</td>\n",
       "      <td>COMPLEX (TRANSFERASE/PEPTIDE)</td>\n",
       "      <td>D</td>\n",
       "      <td>3</td>\n",
       "      <td>XEX</td>\n",
       "      <td>ACE-DIFLUORO PHOSPHOTYR-GLU-(N,N-DIPENTYL AMINE)</td>\n",
       "      <td>-</td>\n",
       "      <td>104.76</td>\n",
       "      <td>-</td>\n",
       "      <td>0.0</td>\n",
       "      <td>-</td>\n",
       "      <td>4.00</td>\n",
       "      <td>B</td>\n",
       "      <td>104</td>\n",
       "      <td>IQAEEWYFGKITRRESERLLLNAENPRGTFLVRESETTKGAYCLSV...</td>\n",
       "      <td>C-SRC TYROSINE KINASE</td>\n",
       "      <td>Homo sapiens</td>\n",
       "      <td>80.68</td>\n",
       "      <td>11952.37</td>\n",
       "      <td>0.12</td>\n",
       "      <td>40.53</td>\n",
       "      <td>9.08</td>\n",
       "      <td>NaN</td>\n",
       "      <td>NaN</td>\n",
       "      <td>NaN</td>\n",
       "      <td>NaN</td>\n",
       "      <td>NaN</td>\n",
       "      <td>NaN</td>\n",
       "    </tr>\n",
       "    <tr>\n",
       "      <th>5</th>\n",
       "      <td>1a09</td>\n",
       "      <td>C-SRC (SH2 DOMAIN) COMPLEXED WITH ACE-FORMYL P...</td>\n",
       "      <td>2.0</td>\n",
       "      <td>COMPLEX (TRANSFERASE/PEPTIDE)</td>\n",
       "      <td>C</td>\n",
       "      <td>3</td>\n",
       "      <td>XEX</td>\n",
       "      <td>ACE-FORMYL PHOSPHOTYR-GLU-(N,N-DIPENTYL AMINE)</td>\n",
       "      <td>-</td>\n",
       "      <td>107.28</td>\n",
       "      <td>-</td>\n",
       "      <td>0.0</td>\n",
       "      <td>-</td>\n",
       "      <td>4.00</td>\n",
       "      <td>A</td>\n",
       "      <td>106</td>\n",
       "      <td>DSIQAEEWYFGKITRRESERLLLNAENPRGTFLVRESETTKGAYCL...</td>\n",
       "      <td>C-SRC TYROSINE KINASE</td>\n",
       "      <td>Homo sapiens</td>\n",
       "      <td>82.50</td>\n",
       "      <td>12154.54</td>\n",
       "      <td>0.11</td>\n",
       "      <td>41.77</td>\n",
       "      <td>8.83</td>\n",
       "      <td>NaN</td>\n",
       "      <td>NaN</td>\n",
       "      <td>NaN</td>\n",
       "      <td>NaN</td>\n",
       "      <td>NaN</td>\n",
       "      <td>NaN</td>\n",
       "    </tr>\n",
       "    <tr>\n",
       "      <th>6</th>\n",
       "      <td>1a09</td>\n",
       "      <td>C-SRC (SH2 DOMAIN) COMPLEXED WITH ACE-FORMYL P...</td>\n",
       "      <td>2.0</td>\n",
       "      <td>COMPLEX (TRANSFERASE/PEPTIDE)</td>\n",
       "      <td>D</td>\n",
       "      <td>3</td>\n",
       "      <td>XEX</td>\n",
       "      <td>ACE-FORMYL PHOSPHOTYR-GLU-(N,N-DIPENTYL AMINE)</td>\n",
       "      <td>-</td>\n",
       "      <td>108.53</td>\n",
       "      <td>-</td>\n",
       "      <td>0.0</td>\n",
       "      <td>-</td>\n",
       "      <td>4.00</td>\n",
       "      <td>B</td>\n",
       "      <td>102</td>\n",
       "      <td>AEEWYFGKITRRESERLLLNAENPRGTFLVRESETTKGAYCLSVSD...</td>\n",
       "      <td>C-SRC TYROSINE KINASE</td>\n",
       "      <td>Homo sapiens</td>\n",
       "      <td>82.06</td>\n",
       "      <td>11711.09</td>\n",
       "      <td>0.12</td>\n",
       "      <td>41.12</td>\n",
       "      <td>9.08</td>\n",
       "      <td>NaN</td>\n",
       "      <td>NaN</td>\n",
       "      <td>NaN</td>\n",
       "      <td>NaN</td>\n",
       "      <td>NaN</td>\n",
       "      <td>NaN</td>\n",
       "    </tr>\n",
       "    <tr>\n",
       "      <th>7</th>\n",
       "      <td>1a1a</td>\n",
       "      <td>C-SRC (SH2 DOMAIN WITH C188A MUTATION) COMPLEX...</td>\n",
       "      <td>2.0</td>\n",
       "      <td>COMPLEX (TRANSFERASE/PEPTIDE)</td>\n",
       "      <td>C</td>\n",
       "      <td>3</td>\n",
       "      <td>XEX</td>\n",
       "      <td>ACE-FORMYL PHOSPHOTYR-GLU-(N,N-DIPENTYL AMINE)</td>\n",
       "      <td>-</td>\n",
       "      <td>106.49</td>\n",
       "      <td>-</td>\n",
       "      <td>0.0</td>\n",
       "      <td>-</td>\n",
       "      <td>4.00</td>\n",
       "      <td>A</td>\n",
       "      <td>106</td>\n",
       "      <td>DSIQAEEWYFGKITRRESERLLLNAENPRGTFLVRESETTKGAYSL...</td>\n",
       "      <td>C-SRC TYROSINE KINASE</td>\n",
       "      <td>Homo sapiens</td>\n",
       "      <td>81.90</td>\n",
       "      <td>12138.47</td>\n",
       "      <td>0.11</td>\n",
       "      <td>39.95</td>\n",
       "      <td>8.96</td>\n",
       "      <td>NaN</td>\n",
       "      <td>NaN</td>\n",
       "      <td>NaN</td>\n",
       "      <td>NaN</td>\n",
       "      <td>NaN</td>\n",
       "      <td>NaN</td>\n",
       "    </tr>\n",
       "    <tr>\n",
       "      <th>8</th>\n",
       "      <td>1a1a</td>\n",
       "      <td>C-SRC (SH2 DOMAIN WITH C188A MUTATION) COMPLEX...</td>\n",
       "      <td>2.0</td>\n",
       "      <td>COMPLEX (TRANSFERASE/PEPTIDE)</td>\n",
       "      <td>C</td>\n",
       "      <td>3</td>\n",
       "      <td>XEX</td>\n",
       "      <td>ACE-FORMYL PHOSPHOTYR-GLU-(N,N-DIPENTYL AMINE)</td>\n",
       "      <td>-</td>\n",
       "      <td>15.13</td>\n",
       "      <td>-</td>\n",
       "      <td>0.0</td>\n",
       "      <td>-</td>\n",
       "      <td>4.00</td>\n",
       "      <td>B</td>\n",
       "      <td>102</td>\n",
       "      <td>AEEWYFGKITRRESERLLLNAENPRGTFLVRESETTKGAYSLSVSD...</td>\n",
       "      <td>C-SRC TYROSINE KINASE</td>\n",
       "      <td>Homo sapiens</td>\n",
       "      <td>15.60</td>\n",
       "      <td>11695.02</td>\n",
       "      <td>0.12</td>\n",
       "      <td>39.24</td>\n",
       "      <td>9.20</td>\n",
       "      <td>NaN</td>\n",
       "      <td>NaN</td>\n",
       "      <td>NaN</td>\n",
       "      <td>NaN</td>\n",
       "      <td>NaN</td>\n",
       "      <td>NaN</td>\n",
       "    </tr>\n",
       "    <tr>\n",
       "      <th>9</th>\n",
       "      <td>1a1a</td>\n",
       "      <td>C-SRC (SH2 DOMAIN WITH C188A MUTATION) COMPLEX...</td>\n",
       "      <td>2.0</td>\n",
       "      <td>COMPLEX (TRANSFERASE/PEPTIDE)</td>\n",
       "      <td>D</td>\n",
       "      <td>3</td>\n",
       "      <td>XEX</td>\n",
       "      <td>ACE-FORMYL PHOSPHOTYR-GLU-(N,N-DIPENTYL AMINE)</td>\n",
       "      <td>-</td>\n",
       "      <td>112.52</td>\n",
       "      <td>-</td>\n",
       "      <td>0.0</td>\n",
       "      <td>-</td>\n",
       "      <td>4.00</td>\n",
       "      <td>B</td>\n",
       "      <td>102</td>\n",
       "      <td>AEEWYFGKITRRESERLLLNAENPRGTFLVRESETTKGAYSLSVSD...</td>\n",
       "      <td>C-SRC TYROSINE KINASE</td>\n",
       "      <td>Homo sapiens</td>\n",
       "      <td>85.01</td>\n",
       "      <td>11695.02</td>\n",
       "      <td>0.12</td>\n",
       "      <td>39.24</td>\n",
       "      <td>9.20</td>\n",
       "      <td>NaN</td>\n",
       "      <td>NaN</td>\n",
       "      <td>NaN</td>\n",
       "      <td>NaN</td>\n",
       "      <td>NaN</td>\n",
       "      <td>NaN</td>\n",
       "    </tr>\n",
       "  </tbody>\n",
       "</table>\n",
       "</div>"
      ],
      "text/plain": [
       "    PDB                                       Protein Name  Resolution  \\\n",
       "0  148l  A COVALENT ENZYME-SUBSTRATE INTERMEDIATE WITH ...         1.9   \n",
       "1  1a07  C-SRC (SH2 DOMAIN) COMPLEXED WITH ACE-MALONYL ...         2.2   \n",
       "2  1a07  C-SRC (SH2 DOMAIN) COMPLEXED WITH ACE-MALONYL ...         2.2   \n",
       "3  1a08  C-SRC (SH2 DOMAIN) COMPLEXED WITH ACE-DIFLUORO...         2.2   \n",
       "4  1a08  C-SRC (SH2 DOMAIN) COMPLEXED WITH ACE-DIFLUORO...         2.2   \n",
       "5  1a09  C-SRC (SH2 DOMAIN) COMPLEXED WITH ACE-FORMYL P...         2.0   \n",
       "6  1a09  C-SRC (SH2 DOMAIN) COMPLEXED WITH ACE-FORMYL P...         2.0   \n",
       "7  1a1a  C-SRC (SH2 DOMAIN WITH C188A MUTATION) COMPLEX...         2.0   \n",
       "8  1a1a  C-SRC (SH2 DOMAIN WITH C188A MUTATION) COMPLEX...         2.0   \n",
       "9  1a1a  C-SRC (SH2 DOMAIN WITH C188A MUTATION) COMPLEX...         2.0   \n",
       "\n",
       "                  Classification ligand_chain_id  Peptide Size  \\\n",
       "0  HYDROLASE/HYDROLASE SUBSTRATE               S             5   \n",
       "1  COMPLEX (TRANSFERASE/PEPTIDE)               C             3   \n",
       "2  COMPLEX (TRANSFERASE/PEPTIDE)               D             3   \n",
       "3  COMPLEX (TRANSFERASE/PEPTIDE)               C             3   \n",
       "4  COMPLEX (TRANSFERASE/PEPTIDE)               D             3   \n",
       "5  COMPLEX (TRANSFERASE/PEPTIDE)               C             3   \n",
       "6  COMPLEX (TRANSFERASE/PEPTIDE)               D             3   \n",
       "7  COMPLEX (TRANSFERASE/PEPTIDE)               C             3   \n",
       "8  COMPLEX (TRANSFERASE/PEPTIDE)               C             3   \n",
       "9  COMPLEX (TRANSFERASE/PEPTIDE)               D             3   \n",
       "\n",
       "  Peptide Sequence                                Peptide Description  \\\n",
       "0            AXXXX  SUBSTRATE CLEAVED FROM CELL WALL OF ESCHERICHI...   \n",
       "1              XEX           ACE-MALONYL TYR-GLU-(N,N-DIPENTYL AMINE)   \n",
       "2              XEX           ACE-MALONYL TYR-GLU-(N,N-DIPENTYL AMINE)   \n",
       "3              XEX   ACE-DIFLUORO PHOSPHOTYR-GLU-(N,N-DIPENTYL AMINE)   \n",
       "4              XEX   ACE-DIFLUORO PHOSPHOTYR-GLU-(N,N-DIPENTYL AMINE)   \n",
       "5              XEX     ACE-FORMYL PHOSPHOTYR-GLU-(N,N-DIPENTYL AMINE)   \n",
       "6              XEX     ACE-FORMYL PHOSPHOTYR-GLU-(N,N-DIPENTYL AMINE)   \n",
       "7              XEX     ACE-FORMYL PHOSPHOTYR-GLU-(N,N-DIPENTYL AMINE)   \n",
       "8              XEX     ACE-FORMYL PHOSPHOTYR-GLU-(N,N-DIPENTYL AMINE)   \n",
       "9              XEX     ACE-FORMYL PHOSPHOTYR-GLU-(N,N-DIPENTYL AMINE)   \n",
       "\n",
       "   Peptide Organism  Peptide Interface Area Peptide Molecular Weight  \\\n",
       "0  Escherichia coli                  151.70                        -   \n",
       "1                 -                  104.76                        -   \n",
       "2                 -                  106.41                        -   \n",
       "3                 -                  107.21                        -   \n",
       "4                 -                  104.76                        -   \n",
       "5                 -                  107.28                        -   \n",
       "6                 -                  108.53                        -   \n",
       "7                 -                  106.49                        -   \n",
       "8                 -                   15.13                        -   \n",
       "9                 -                  112.52                        -   \n",
       "\n",
       "   Peptide Aromaticity Peptide Instability  Peptide Isoelectric Point  \\\n",
       "0                  0.0                   -                       5.57   \n",
       "1                  0.0                   -                       4.00   \n",
       "2                  0.0                   -                       4.00   \n",
       "3                  0.0                   -                       4.00   \n",
       "4                  0.0                   -                       4.00   \n",
       "5                  0.0                   -                       4.00   \n",
       "6                  0.0                   -                       4.00   \n",
       "7                  0.0                   -                       4.00   \n",
       "8                  0.0                   -                       4.00   \n",
       "9                  0.0                   -                       4.00   \n",
       "\n",
       "  receptor_chain_id  Receptor Size  \\\n",
       "0                 E            163   \n",
       "1                 A            105   \n",
       "2                 B            104   \n",
       "3                 A            105   \n",
       "4                 B            104   \n",
       "5                 A            106   \n",
       "6                 B            102   \n",
       "7                 A            106   \n",
       "8                 B            102   \n",
       "9                 B            102   \n",
       "\n",
       "                                   Receptor Sequence   Receptor Description  \\\n",
       "0  MNIFEMLRIDEGLRLKIYKDTEGYYEIGIGHLLTKSPSLNAAKSEL...            T4 LYSOZYME   \n",
       "1  SIQAEEWYFGKITRRESERLLLNAENPRGTFLVRESETTKGAYCLS...  C-SRC TYROSINE KINASE   \n",
       "2  IQAEEWYFGKITRRESERLLLNAENPRGTFLVRESETTKGAYCLSV...  C-SRC TYROSINE KINASE   \n",
       "3  SIQAEEWYFGKITRRESERLLLNAENPRGTFLVRESETTKGAYCLS...  C-SRC TYROSINE KINASE   \n",
       "4  IQAEEWYFGKITRRESERLLLNAENPRGTFLVRESETTKGAYCLSV...  C-SRC TYROSINE KINASE   \n",
       "5  DSIQAEEWYFGKITRRESERLLLNAENPRGTFLVRESETTKGAYCL...  C-SRC TYROSINE KINASE   \n",
       "6  AEEWYFGKITRRESERLLLNAENPRGTFLVRESETTKGAYCLSVSD...  C-SRC TYROSINE KINASE   \n",
       "7  DSIQAEEWYFGKITRRESERLLLNAENPRGTFLVRESETTKGAYSL...  C-SRC TYROSINE KINASE   \n",
       "8  AEEWYFGKITRRESERLLLNAENPRGTFLVRESETTKGAYSLSVSD...  C-SRC TYROSINE KINASE   \n",
       "9  AEEWYFGKITRRESERLLLNAENPRGTFLVRESETTKGAYSLSVSD...  C-SRC TYROSINE KINASE   \n",
       "\n",
       "      Receptor Organism  Receptor Interface Area Receptor Molecular Weight  \\\n",
       "0  Escherichia virus T4                    94.32                  18515.99   \n",
       "1          Homo sapiens                    80.39                  12039.45   \n",
       "2          Homo sapiens                    83.65                  11952.37   \n",
       "3          Homo sapiens                    81.86                  12039.45   \n",
       "4          Homo sapiens                    80.68                  11952.37   \n",
       "5          Homo sapiens                    82.50                  12154.54   \n",
       "6          Homo sapiens                    82.06                  11711.09   \n",
       "7          Homo sapiens                    81.90                  12138.47   \n",
       "8          Homo sapiens                    15.60                  11695.02   \n",
       "9          Homo sapiens                    85.01                  11695.02   \n",
       "\n",
       "   Receptor Aromaticity Receptor Instability  Receptor Isoelectric Point  \\\n",
       "0                  0.09                37.30                        9.66   \n",
       "1                  0.11                40.24                        9.07   \n",
       "2                  0.12                40.53                        9.08   \n",
       "3                  0.11                40.24                        9.07   \n",
       "4                  0.12                40.53                        9.08   \n",
       "5                  0.11                41.77                        8.83   \n",
       "6                  0.12                41.12                        9.08   \n",
       "7                  0.11                39.95                        8.96   \n",
       "8                  0.12                39.24                        9.20   \n",
       "9                  0.12                39.24                        9.20   \n",
       "\n",
       "   Sequence Cluster Is Sequence Cluster Centroid  Interface Cluster  \\\n",
       "0               NaN                          NaN                NaN   \n",
       "1               NaN                          NaN                NaN   \n",
       "2               NaN                          NaN                NaN   \n",
       "3               NaN                          NaN                NaN   \n",
       "4               NaN                          NaN                NaN   \n",
       "5               NaN                          NaN                NaN   \n",
       "6               NaN                          NaN                NaN   \n",
       "7               NaN                          NaN                NaN   \n",
       "8               NaN                          NaN                NaN   \n",
       "9               NaN                          NaN                NaN   \n",
       "\n",
       "  Is Interface Cluster Centroid  Binding Cluster Is Binding Cluster Centroid  \n",
       "0                           NaN              NaN                         NaN  \n",
       "1                           NaN              NaN                         NaN  \n",
       "2                           NaN              NaN                         NaN  \n",
       "3                           NaN              NaN                         NaN  \n",
       "4                           NaN              NaN                         NaN  \n",
       "5                           NaN              NaN                         NaN  \n",
       "6                           NaN              NaN                         NaN  \n",
       "7                           NaN              NaN                         NaN  \n",
       "8                           NaN              NaN                         NaN  \n",
       "9                           NaN              NaN                         NaN  "
      ]
     },
     "execution_count": 7,
     "metadata": {},
     "output_type": "execute_result"
    }
   ],
   "source": [
    "complex_df = pd.read_csv(\n",
    "    os.path.join(DATA_DIR, 'complex.csv'),\n",
    ").rename(columns={\n",
    "    'Receptor Chain': 'receptor_chain_id', \n",
    "    'Peptide Chain': 'ligand_chain_id'\n",
    "})\n",
    "print(complex_df.shape)\n",
    "complex_df.head(10)"
   ]
  },
  {
   "cell_type": "code",
   "execution_count": 8,
   "id": "82aeacdd",
   "metadata": {},
   "outputs": [],
   "source": [
    "complex_df['receptor_PDBID_chain'] = complex_df.apply(\n",
    "    lambda row: row['PDB'] + '-' + row['receptor_chain_id'],\n",
    "    axis=1\n",
    ")\n",
    "complex_df['ligand_PDBID_chain'] = complex_df.apply(\n",
    "    lambda row: row['PDB'] + '-' + row['ligand_chain_id'],\n",
    "    axis=1\n",
    ")"
   ]
  },
  {
   "cell_type": "code",
   "execution_count": 9,
   "id": "c18aac33",
   "metadata": {},
   "outputs": [
    {
     "name": "stdout",
     "output_type": "stream",
     "text": [
      "(19813, 32)\n"
     ]
    },
    {
     "data": {
      "text/plain": [
       "PDB                              19813\n",
       "Protein Name                     19813\n",
       "Resolution                       19177\n",
       "Classification                   19813\n",
       "ligand_chain_id                  19813\n",
       "Peptide Size                     19813\n",
       "Peptide Sequence                 19813\n",
       "Peptide Description              19813\n",
       "Peptide Organism                 19813\n",
       "Peptide Interface Area           19813\n",
       "Peptide Molecular Weight         19813\n",
       "Peptide Aromaticity              19813\n",
       "Peptide Instability              19813\n",
       "Peptide Isoelectric Point        19813\n",
       "receptor_chain_id                19813\n",
       "Receptor Size                    19813\n",
       "Receptor Sequence                19813\n",
       "Receptor Description             19813\n",
       "Receptor Organism                19813\n",
       "Receptor Interface Area          19813\n",
       "Receptor Molecular Weight        19813\n",
       "Receptor Aromaticity             19813\n",
       "Receptor Instability             19813\n",
       "Receptor Isoelectric Point       19813\n",
       "Sequence Cluster                  5971\n",
       "Is Sequence Cluster Centroid      5971\n",
       "Interface Cluster                 5971\n",
       "Is Interface Cluster Centroid     5971\n",
       "Binding Cluster                   5971\n",
       "Is Binding Cluster Centroid       5971\n",
       "receptor_PDBID_chain             19813\n",
       "ligand_PDBID_chain               19813\n",
       "dtype: int64"
      ]
     },
     "execution_count": 9,
     "metadata": {},
     "output_type": "execute_result"
    }
   ],
   "source": [
    "print(complex_df.shape)\n",
    "complex_df.count()"
   ]
  },
  {
   "cell_type": "code",
   "execution_count": 10,
   "id": "85401069",
   "metadata": {},
   "outputs": [],
   "source": [
    "# complex_df['Sequence Cluster'].value_counts()"
   ]
  },
  {
   "cell_type": "code",
   "execution_count": 11,
   "id": "a16ae380",
   "metadata": {},
   "outputs": [
    {
     "data": {
      "text/plain": [
       "0    structures/complex/148l_S_E.pdb\n",
       "1    structures/complex/1a07_C_A.pdb\n",
       "2    structures/complex/1a07_D_B.pdb\n",
       "3    structures/complex/1a08_C_A.pdb\n",
       "4    structures/complex/1a08_D_B.pdb\n",
       "Name: pdb_file, dtype: object"
      ]
     },
     "execution_count": 11,
     "metadata": {},
     "output_type": "execute_result"
    }
   ],
   "source": [
    "complex_df['pdb_file'] = complex_df.apply(\n",
    "    lambda row: f\"structures/complex/{row['PDB']}_{row['ligand_chain_id']}_{row['receptor_chain_id']}.pdb\",\n",
    "    axis=1\n",
    ")\n",
    "complex_df['pdb_file'].head()"
   ]
  },
  {
   "cell_type": "code",
   "execution_count": 12,
   "id": "71831772",
   "metadata": {},
   "outputs": [
    {
     "data": {
      "text/plain": [
       "PDB                               8130\n",
       "Protein Name                      7543\n",
       "Resolution                         164\n",
       "Classification                     752\n",
       "ligand_chain_id                     62\n",
       "Peptide Size                        49\n",
       "Peptide Sequence                  7101\n",
       "Peptide Description               5046\n",
       "Peptide Organism                   405\n",
       "Peptide Interface Area           18233\n",
       "Peptide Molecular Weight          4486\n",
       "Peptide Aromaticity                 47\n",
       "Peptide Instability               3068\n",
       "Peptide Isoelectric Point          626\n",
       "receptor_chain_id                   52\n",
       "Receptor Size                      653\n",
       "Receptor Sequence                 9213\n",
       "Receptor Description              3421\n",
       "Receptor Organism                  399\n",
       "Receptor Interface Area          17947\n",
       "Receptor Molecular Weight         4381\n",
       "Receptor Aromaticity                23\n",
       "Receptor Instability              2587\n",
       "Receptor Isoelectric Point         628\n",
       "Sequence Cluster                  1845\n",
       "Is Sequence Cluster Centroid         2\n",
       "Interface Cluster                 1891\n",
       "Is Interface Cluster Centroid        2\n",
       "Binding Cluster                   1466\n",
       "Is Binding Cluster Centroid          2\n",
       "receptor_PDBID_chain             14902\n",
       "ligand_PDBID_chain               13618\n",
       "pdb_file                         19813\n",
       "dtype: int64"
      ]
     },
     "execution_count": 12,
     "metadata": {},
     "output_type": "execute_result"
    }
   ],
   "source": [
    "complex_df.nunique()"
   ]
  },
  {
   "cell_type": "code",
   "execution_count": 13,
   "id": "6e4a9588",
   "metadata": {},
   "outputs": [
    {
     "data": {
      "text/plain": [
       "IMMUNE SYSTEM                         2367\n",
       "HYDROLASE/HYDROLASE INHIBITOR         1484\n",
       "HYDROLASE                             1374\n",
       "TRANSCRIPTION                         1093\n",
       "TRANSFERASE                            980\n",
       "OXIDOREDUCTASE                         968\n",
       "PHOTOSYNTHESIS                         838\n",
       "PROTEIN BINDING                        660\n",
       "SIGNALING PROTEIN                      470\n",
       "SUGAR BINDING PROTEIN                  357\n",
       "ELECTRON TRANSPORT, PHOTOSYNTHESIS     348\n",
       "PEPTIDE BINDING PROTEIN                297\n",
       "APOPTOSIS                              295\n",
       "CELL CYCLE                             286\n",
       "CELL ADHESION                          265\n",
       "TRANSFERASE/TRANSFERASE INHIBITOR      264\n",
       "HYDROLASE/ANTIBIOTIC                   245\n",
       "PROTEIN TRANSPORT                      224\n",
       "ISOMERASE/IMMUNOSUPPRESSANT            202\n",
       "VIRAL PROTEIN                          201\n",
       "Name: Classification, dtype: int64"
      ]
     },
     "execution_count": 13,
     "metadata": {},
     "output_type": "execute_result"
    }
   ],
   "source": [
    "# top categories for complexes\n",
    "complex_df['Classification'].value_counts().head(20)"
   ]
  },
  {
   "cell_type": "code",
   "execution_count": 14,
   "id": "01164257",
   "metadata": {},
   "outputs": [
    {
     "data": {
      "image/png": "[encoded data removed]",
      "text/plain": [
       "<Figure size 432x288 with 1 Axes>"
      ]
     },
     "metadata": {
      "needs_background": "light"
     },
     "output_type": "display_data"
    }
   ],
   "source": [
    "ax = complex_df['Peptide Size'].plot(kind='hist', bins=50);\n",
    "ax.set(xlabel='Peptide lengths');"
   ]
  },
  {
   "cell_type": "code",
   "execution_count": 15,
   "id": "6b380358",
   "metadata": {},
   "outputs": [
    {
     "data": {
      "image/png": "[encoded data removed]",
      "text/plain": [
       "<Figure size 432x288 with 1 Axes>"
      ]
     },
     "metadata": {
      "needs_background": "light"
     },
     "output_type": "display_data"
    }
   ],
   "source": [
    "ax = complex_df['Receptor Size'].plot(kind='hist', bins=50);\n",
    "ax.set(xlabel='Receptor lengths');"
   ]
  },
  {
   "cell_type": "code",
   "execution_count": 16,
   "id": "454295f9",
   "metadata": {},
   "outputs": [
    {
     "data": {
      "image/png": "[encoded data removed]",
      "text/plain": [
       "<Figure size 432x288 with 1 Axes>"
      ]
     },
     "metadata": {
      "needs_background": "light"
     },
     "output_type": "display_data"
    }
   ],
   "source": [
    "ax = complex_df['Resolution'].plot(kind='hist', bins=50);\n",
    "ax.set(xlabel='Complex resolution');"
   ]
  },
  {
   "cell_type": "markdown",
   "id": "343708b3",
   "metadata": {},
   "source": [
    "## Load Jared's negative sets \n",
    "\n",
    "`docked_name`: receptor_chain_peptide_chain_refined.pdb"
   ]
  },
  {
   "cell_type": "code",
   "execution_count": 17,
   "id": "8d500ab0",
   "metadata": {},
   "outputs": [
    {
     "name": "stdout",
     "output_type": "stream",
     "text": [
      "(19021, 6)\n"
     ]
    },
    {
     "data": {
      "text/html": [
       "<div>\n",
       "<style scoped>\n",
       "    .dataframe tbody tr th:only-of-type {\n",
       "        vertical-align: middle;\n",
       "    }\n",
       "\n",
       "    .dataframe tbody tr th {\n",
       "        vertical-align: top;\n",
       "    }\n",
       "\n",
       "    .dataframe thead th {\n",
       "        text-align: right;\n",
       "    }\n",
       "</style>\n",
       "<table border=\"1\" class=\"dataframe\">\n",
       "  <thead>\n",
       "    <tr style=\"text-align: right;\">\n",
       "      <th></th>\n",
       "      <th>receptor_PDBID</th>\n",
       "      <th>ligand_PDBID</th>\n",
       "      <th>docked_name</th>\n",
       "      <th>ligand_chain_id</th>\n",
       "      <th>receptor_chain_id</th>\n",
       "      <th>pdb_file</th>\n",
       "    </tr>\n",
       "  </thead>\n",
       "  <tbody>\n",
       "    <tr>\n",
       "      <th>0</th>\n",
       "      <td>1a2x</td>\n",
       "      <td>1ow6</td>\n",
       "      <td>1a2x_A_1ow6_F_refined.pdb</td>\n",
       "      <td>X</td>\n",
       "      <td>A</td>\n",
       "      <td>propedia_aws_19k/docked_pdbs/1a2x_A_1ow6_F_ref...</td>\n",
       "    </tr>\n",
       "    <tr>\n",
       "      <th>1</th>\n",
       "      <td>1a2x</td>\n",
       "      <td>1pcx</td>\n",
       "      <td>1a2x_A_1pcx_B_refined.pdb</td>\n",
       "      <td>X</td>\n",
       "      <td>A</td>\n",
       "      <td>propedia_aws_19k/docked_pdbs/1a2x_A_1pcx_B_ref...</td>\n",
       "    </tr>\n",
       "    <tr>\n",
       "      <th>2</th>\n",
       "      <td>1a2x</td>\n",
       "      <td>2b1j</td>\n",
       "      <td>1a2x_A_2b1j_D_refined.pdb</td>\n",
       "      <td>X</td>\n",
       "      <td>A</td>\n",
       "      <td>propedia_aws_19k/docked_pdbs/1a2x_A_2b1j_D_ref...</td>\n",
       "    </tr>\n",
       "    <tr>\n",
       "      <th>3</th>\n",
       "      <td>1a2x</td>\n",
       "      <td>2b1n</td>\n",
       "      <td>1a2x_A_2b1n_B_refined.pdb</td>\n",
       "      <td>X</td>\n",
       "      <td>A</td>\n",
       "      <td>propedia_aws_19k/docked_pdbs/1a2x_A_2b1n_B_ref...</td>\n",
       "    </tr>\n",
       "    <tr>\n",
       "      <th>4</th>\n",
       "      <td>1a2x</td>\n",
       "      <td>2iij</td>\n",
       "      <td>1a2x_A_2iij_B_refined.pdb</td>\n",
       "      <td>X</td>\n",
       "      <td>A</td>\n",
       "      <td>propedia_aws_19k/docked_pdbs/1a2x_A_2iij_B_ref...</td>\n",
       "    </tr>\n",
       "  </tbody>\n",
       "</table>\n",
       "</div>"
      ],
      "text/plain": [
       "  receptor_PDBID ligand_PDBID                docked_name ligand_chain_id  \\\n",
       "0           1a2x         1ow6  1a2x_A_1ow6_F_refined.pdb               X   \n",
       "1           1a2x         1pcx  1a2x_A_1pcx_B_refined.pdb               X   \n",
       "2           1a2x         2b1j  1a2x_A_2b1j_D_refined.pdb               X   \n",
       "3           1a2x         2b1n  1a2x_A_2b1n_B_refined.pdb               X   \n",
       "4           1a2x         2iij  1a2x_A_2iij_B_refined.pdb               X   \n",
       "\n",
       "  receptor_chain_id                                           pdb_file  \n",
       "0                 A  propedia_aws_19k/docked_pdbs/1a2x_A_1ow6_F_ref...  \n",
       "1                 A  propedia_aws_19k/docked_pdbs/1a2x_A_1pcx_B_ref...  \n",
       "2                 A  propedia_aws_19k/docked_pdbs/1a2x_A_2b1j_D_ref...  \n",
       "3                 A  propedia_aws_19k/docked_pdbs/1a2x_A_2b1n_B_ref...  \n",
       "4                 A  propedia_aws_19k/docked_pdbs/1a2x_A_2iij_B_ref...  "
      ]
     },
     "execution_count": 17,
     "metadata": {},
     "output_type": "execute_result"
    }
   ],
   "source": [
    "complex_df_neg1 = pd.read_csv(\n",
    "    os.path.join(DATA_DIR, 'propedia_aws_19k/docked_data.csv'),\n",
    "    index_col=0\n",
    ").rename(columns={\n",
    "    'ligand_chain': 'ligand_chain_id',\n",
    "    'receptor_chain': 'receptor_chain_id'\n",
    "})\n",
    "# swap the two columns `ligand_PDBID`, `receptor_PDBID` as Jared made a mistake in his codes\n",
    "complex_df_neg1 = complex_df_neg1.rename(columns={'ligand_PDBID': 'receptor_PDBID', 'receptor_PDBID': 'ligand_PDBID'})\n",
    "\n",
    "complex_df_neg1['pdb_file'] = complex_df_neg1.apply(\n",
    "    lambda row: f\"propedia_aws_19k/docked_pdbs/{row['docked_name']}\",\n",
    "    axis=1\n",
    ")\n",
    "print(complex_df_neg1.shape)\n",
    "complex_df_neg1.head()"
   ]
  },
  {
   "cell_type": "code",
   "execution_count": 18,
   "id": "6fe86505",
   "metadata": {},
   "outputs": [
    {
     "name": "stdout",
     "output_type": "stream",
     "text": [
      "(19301, 6)\n"
     ]
    },
    {
     "data": {
      "text/html": [
       "<div>\n",
       "<style scoped>\n",
       "    .dataframe tbody tr th:only-of-type {\n",
       "        vertical-align: middle;\n",
       "    }\n",
       "\n",
       "    .dataframe tbody tr th {\n",
       "        vertical-align: top;\n",
       "    }\n",
       "\n",
       "    .dataframe thead th {\n",
       "        text-align: right;\n",
       "    }\n",
       "</style>\n",
       "<table border=\"1\" class=\"dataframe\">\n",
       "  <thead>\n",
       "    <tr style=\"text-align: right;\">\n",
       "      <th></th>\n",
       "      <th>ligand_PDBID</th>\n",
       "      <th>receptor_PDBID</th>\n",
       "      <th>docked_name</th>\n",
       "      <th>ligand_chain_id</th>\n",
       "      <th>receptor_chain_id</th>\n",
       "      <th>pdb_file</th>\n",
       "    </tr>\n",
       "  </thead>\n",
       "  <tbody>\n",
       "    <tr>\n",
       "      <th>0</th>\n",
       "      <td>1bm2</td>\n",
       "      <td>148l</td>\n",
       "      <td>148l_E_1bm2_L_refined.pdb</td>\n",
       "      <td>X</td>\n",
       "      <td>E</td>\n",
       "      <td>nr_aws_19k/docked_pdbs/148l_E_1bm2_L_refined.pdb</td>\n",
       "    </tr>\n",
       "    <tr>\n",
       "      <th>1</th>\n",
       "      <td>1mt7</td>\n",
       "      <td>1a07</td>\n",
       "      <td>1a07_A_1mt7_P_refined.pdb</td>\n",
       "      <td>X</td>\n",
       "      <td>A</td>\n",
       "      <td>nr_aws_19k/docked_pdbs/1a07_A_1mt7_P_refined.pdb</td>\n",
       "    </tr>\n",
       "    <tr>\n",
       "      <th>2</th>\n",
       "      <td>5kri</td>\n",
       "      <td>1a07</td>\n",
       "      <td>1a07_A_5kri_D_refined.pdb</td>\n",
       "      <td>X</td>\n",
       "      <td>A</td>\n",
       "      <td>nr_aws_19k/docked_pdbs/1a07_A_5kri_D_refined.pdb</td>\n",
       "    </tr>\n",
       "    <tr>\n",
       "      <th>3</th>\n",
       "      <td>1d5z</td>\n",
       "      <td>1a07</td>\n",
       "      <td>1a07_B_1d5z_D_refined.pdb</td>\n",
       "      <td>X</td>\n",
       "      <td>B</td>\n",
       "      <td>nr_aws_19k/docked_pdbs/1a07_B_1d5z_D_refined.pdb</td>\n",
       "    </tr>\n",
       "    <tr>\n",
       "      <th>4</th>\n",
       "      <td>6d0f</td>\n",
       "      <td>1a07</td>\n",
       "      <td>1a07_B_6d0f_C_refined.pdb</td>\n",
       "      <td>X</td>\n",
       "      <td>B</td>\n",
       "      <td>nr_aws_19k/docked_pdbs/1a07_B_6d0f_C_refined.pdb</td>\n",
       "    </tr>\n",
       "  </tbody>\n",
       "</table>\n",
       "</div>"
      ],
      "text/plain": [
       "  ligand_PDBID receptor_PDBID                docked_name ligand_chain_id  \\\n",
       "0         1bm2           148l  148l_E_1bm2_L_refined.pdb               X   \n",
       "1         1mt7           1a07  1a07_A_1mt7_P_refined.pdb               X   \n",
       "2         5kri           1a07  1a07_A_5kri_D_refined.pdb               X   \n",
       "3         1d5z           1a07  1a07_B_1d5z_D_refined.pdb               X   \n",
       "4         6d0f           1a07  1a07_B_6d0f_C_refined.pdb               X   \n",
       "\n",
       "  receptor_chain_id                                          pdb_file  \n",
       "0                 E  nr_aws_19k/docked_pdbs/148l_E_1bm2_L_refined.pdb  \n",
       "1                 A  nr_aws_19k/docked_pdbs/1a07_A_1mt7_P_refined.pdb  \n",
       "2                 A  nr_aws_19k/docked_pdbs/1a07_A_5kri_D_refined.pdb  \n",
       "3                 B  nr_aws_19k/docked_pdbs/1a07_B_1d5z_D_refined.pdb  \n",
       "4                 B  nr_aws_19k/docked_pdbs/1a07_B_6d0f_C_refined.pdb  "
      ]
     },
     "execution_count": 18,
     "metadata": {},
     "output_type": "execute_result"
    }
   ],
   "source": [
    "complex_df_neg2 = pd.read_csv(\n",
    "    os.path.join(DATA_DIR, 'nr_aws_19k/docked_data.csv'),\n",
    "    index_col=0\n",
    ").rename(columns={\n",
    "    'ligand_chain': 'ligand_chain_id',\n",
    "    'receptor_chain': 'receptor_chain_id'\n",
    "})\n",
    "\n",
    "complex_df_neg2['pdb_file'] = complex_df_neg2.apply(\n",
    "    lambda row: f\"nr_aws_19k/docked_pdbs/{row['docked_name']}\",\n",
    "    axis=1\n",
    ")\n",
    "print(complex_df_neg2.shape)\n",
    "complex_df_neg2.head()"
   ]
  },
  {
   "cell_type": "code",
   "execution_count": 19,
   "id": "d23843ab",
   "metadata": {},
   "outputs": [
    {
     "data": {
      "text/plain": [
       "(38322, 6)"
      ]
     },
     "execution_count": 19,
     "metadata": {},
     "output_type": "execute_result"
    }
   ],
   "source": [
    "complex_df_neg = pd.concat([complex_df_neg1, complex_df_neg2])\n",
    "complex_df_neg.shape"
   ]
  },
  {
   "cell_type": "code",
   "execution_count": 20,
   "id": "f47b6cae",
   "metadata": {},
   "outputs": [
    {
     "data": {
      "text/html": [
       "<div>\n",
       "<style scoped>\n",
       "    .dataframe tbody tr th:only-of-type {\n",
       "        vertical-align: middle;\n",
       "    }\n",
       "\n",
       "    .dataframe tbody tr th {\n",
       "        vertical-align: top;\n",
       "    }\n",
       "\n",
       "    .dataframe thead th {\n",
       "        text-align: right;\n",
       "    }\n",
       "</style>\n",
       "<table border=\"1\" class=\"dataframe\">\n",
       "  <thead>\n",
       "    <tr style=\"text-align: right;\">\n",
       "      <th></th>\n",
       "      <th>receptor_PDBID</th>\n",
       "      <th>ligand_PDBID</th>\n",
       "      <th>docked_name</th>\n",
       "      <th>ligand_chain_id</th>\n",
       "      <th>receptor_chain_id</th>\n",
       "      <th>pdb_file</th>\n",
       "      <th>receptor_PDBID_chain</th>\n",
       "      <th>ligand_PDBID_chain</th>\n",
       "    </tr>\n",
       "  </thead>\n",
       "  <tbody>\n",
       "    <tr>\n",
       "      <th>0</th>\n",
       "      <td>1a2x</td>\n",
       "      <td>1ow6</td>\n",
       "      <td>1a2x_A_1ow6_F_refined.pdb</td>\n",
       "      <td>X</td>\n",
       "      <td>A</td>\n",
       "      <td>propedia_aws_19k/docked_pdbs/1a2x_A_1ow6_F_ref...</td>\n",
       "      <td>1a2x-A</td>\n",
       "      <td>1ow6-F</td>\n",
       "    </tr>\n",
       "    <tr>\n",
       "      <th>1</th>\n",
       "      <td>1a2x</td>\n",
       "      <td>1pcx</td>\n",
       "      <td>1a2x_A_1pcx_B_refined.pdb</td>\n",
       "      <td>X</td>\n",
       "      <td>A</td>\n",
       "      <td>propedia_aws_19k/docked_pdbs/1a2x_A_1pcx_B_ref...</td>\n",
       "      <td>1a2x-A</td>\n",
       "      <td>1pcx-B</td>\n",
       "    </tr>\n",
       "    <tr>\n",
       "      <th>2</th>\n",
       "      <td>1a2x</td>\n",
       "      <td>2b1j</td>\n",
       "      <td>1a2x_A_2b1j_D_refined.pdb</td>\n",
       "      <td>X</td>\n",
       "      <td>A</td>\n",
       "      <td>propedia_aws_19k/docked_pdbs/1a2x_A_2b1j_D_ref...</td>\n",
       "      <td>1a2x-A</td>\n",
       "      <td>2b1j-D</td>\n",
       "    </tr>\n",
       "    <tr>\n",
       "      <th>3</th>\n",
       "      <td>1a2x</td>\n",
       "      <td>2b1n</td>\n",
       "      <td>1a2x_A_2b1n_B_refined.pdb</td>\n",
       "      <td>X</td>\n",
       "      <td>A</td>\n",
       "      <td>propedia_aws_19k/docked_pdbs/1a2x_A_2b1n_B_ref...</td>\n",
       "      <td>1a2x-A</td>\n",
       "      <td>2b1n-B</td>\n",
       "    </tr>\n",
       "    <tr>\n",
       "      <th>4</th>\n",
       "      <td>1a2x</td>\n",
       "      <td>2iij</td>\n",
       "      <td>1a2x_A_2iij_B_refined.pdb</td>\n",
       "      <td>X</td>\n",
       "      <td>A</td>\n",
       "      <td>propedia_aws_19k/docked_pdbs/1a2x_A_2iij_B_ref...</td>\n",
       "      <td>1a2x-A</td>\n",
       "      <td>2iij-B</td>\n",
       "    </tr>\n",
       "  </tbody>\n",
       "</table>\n",
       "</div>"
      ],
      "text/plain": [
       "  receptor_PDBID ligand_PDBID                docked_name ligand_chain_id  \\\n",
       "0           1a2x         1ow6  1a2x_A_1ow6_F_refined.pdb               X   \n",
       "1           1a2x         1pcx  1a2x_A_1pcx_B_refined.pdb               X   \n",
       "2           1a2x         2b1j  1a2x_A_2b1j_D_refined.pdb               X   \n",
       "3           1a2x         2b1n  1a2x_A_2b1n_B_refined.pdb               X   \n",
       "4           1a2x         2iij  1a2x_A_2iij_B_refined.pdb               X   \n",
       "\n",
       "  receptor_chain_id                                           pdb_file  \\\n",
       "0                 A  propedia_aws_19k/docked_pdbs/1a2x_A_1ow6_F_ref...   \n",
       "1                 A  propedia_aws_19k/docked_pdbs/1a2x_A_1pcx_B_ref...   \n",
       "2                 A  propedia_aws_19k/docked_pdbs/1a2x_A_2b1j_D_ref...   \n",
       "3                 A  propedia_aws_19k/docked_pdbs/1a2x_A_2b1n_B_ref...   \n",
       "4                 A  propedia_aws_19k/docked_pdbs/1a2x_A_2iij_B_ref...   \n",
       "\n",
       "  receptor_PDBID_chain ligand_PDBID_chain  \n",
       "0               1a2x-A             1ow6-F  \n",
       "1               1a2x-A             1pcx-B  \n",
       "2               1a2x-A             2b1j-D  \n",
       "3               1a2x-A             2b1n-B  \n",
       "4               1a2x-A             2iij-B  "
      ]
     },
     "execution_count": 20,
     "metadata": {},
     "output_type": "execute_result"
    }
   ],
   "source": [
    "# Get peptide sequence from the fasta file\n",
    "complex_df_neg['receptor_PDBID_chain'] = complex_df_neg['docked_name'].map(\n",
    "    lambda x: '-'.join(x.split('_')[0:2])\n",
    ")\n",
    "complex_df_neg['ligand_PDBID_chain'] = complex_df_neg['docked_name'].map(\n",
    "    lambda x: '-'.join(x.split('_')[2:4])\n",
    ")\n",
    "complex_df_neg.head()"
   ]
  },
  {
   "cell_type": "code",
   "execution_count": 21,
   "id": "08b43b71",
   "metadata": {},
   "outputs": [
    {
     "name": "stdout",
     "output_type": "stream",
     "text": [
      "19813\n",
      "number of peptides: 13618\n"
     ]
    }
   ],
   "source": [
    "# parse the peptide fasta file downloaded from Propedia\n",
    "from Bio import SeqIO\n",
    "d_fasta = SeqIO.to_dict(\n",
    "    SeqIO.parse(os.path.join(DATA_DIR, \"peptide.fasta\"), \"fasta\")\n",
    ")\n",
    "print(len(d_fasta))\n",
    "\n",
    "d_peptide_seqs = {}\n",
    "for key, seq in d_fasta.items():\n",
    "    ligand_pdbid_chain = '-'.join(key.split('|')[0].split('-')[:2])\n",
    "    if ligand_pdbid_chain in d_peptide_seqs:\n",
    "        # make sure ligand sequences are the same for the same PDBID chain\n",
    "        assert d_peptide_seqs[ligand_pdbid_chain] == str(seq.seq)\n",
    "    d_peptide_seqs[ligand_pdbid_chain] = str(seq.seq)\n",
    "\n",
    "print('number of peptides:', len(d_peptide_seqs))"
   ]
  },
  {
   "cell_type": "code",
   "execution_count": 22,
   "id": "726547a8",
   "metadata": {},
   "outputs": [
    {
     "name": "stdout",
     "output_type": "stream",
     "text": [
      "19813\n",
      "number of receptors: 14902\n"
     ]
    }
   ],
   "source": [
    "d_fasta = SeqIO.to_dict(\n",
    "    SeqIO.parse(os.path.join(DATA_DIR, \"receptor.fasta\"), \"fasta\")\n",
    ")\n",
    "print(len(d_fasta))\n",
    "\n",
    "d_receptor_seqs = {}\n",
    "for key, seq in d_fasta.items():\n",
    "    pdb_id_chains = key.split('|')[0]\n",
    "    receptor_pdbid_chain = pdb_id_chains.split('-')[0] + '-' + pdb_id_chains.split('-')[2]\n",
    "    if receptor_pdbid_chain in d_receptor_seqs:\n",
    "        # make sure sequences are the same for the same PDBID chain\n",
    "        assert d_receptor_seqs[receptor_pdbid_chain] == str(seq.seq)\n",
    "    d_receptor_seqs[receptor_pdbid_chain] = str(seq.seq)\n",
    "\n",
    "print('number of receptors:', len(d_receptor_seqs))"
   ]
  },
  {
   "cell_type": "code",
   "execution_count": 23,
   "id": "ad60ff79",
   "metadata": {},
   "outputs": [
    {
     "name": "stdout",
     "output_type": "stream",
     "text": [
      "Number of unique peptide sequences: 7101\n"
     ]
    }
   ],
   "source": [
    "print('Number of unique peptide sequences:', len(set(d_peptide_seqs.values())))"
   ]
  },
  {
   "cell_type": "code",
   "execution_count": 24,
   "id": "d13b6fea",
   "metadata": {},
   "outputs": [
    {
     "name": "stdout",
     "output_type": "stream",
     "text": [
      "Number of unique protein sequences: 9213\n"
     ]
    }
   ],
   "source": [
    "print('Number of unique protein sequences:', len(set(d_receptor_seqs.values())))"
   ]
  },
  {
   "cell_type": "code",
   "execution_count": 25,
   "id": "4a4c3b30",
   "metadata": {},
   "outputs": [
    {
     "data": {
      "text/plain": [
       "[('148l-S', 'AXXXX'),\n",
       " ('1a07-C', 'XEX'),\n",
       " ('1a07-D', 'XEX'),\n",
       " ('1a08-C', 'XEX'),\n",
       " ('1a08-D', 'XEX')]"
      ]
     },
     "execution_count": 25,
     "metadata": {},
     "output_type": "execute_result"
    }
   ],
   "source": [
    "list(d_peptide_seqs.items())[:5]"
   ]
  },
  {
   "cell_type": "code",
   "execution_count": 26,
   "id": "23c0464c",
   "metadata": {},
   "outputs": [
    {
     "name": "stdout",
     "output_type": "stream",
     "text": [
      "number of non-canonical peptides: 4822\n"
     ]
    }
   ],
   "source": [
    "non_con_peptides = {pdb_id: seq for pdb_id, seq in d_peptide_seqs.items() if 'X' in seq}\n",
    "print('number of non-canonical peptides:', len(non_con_peptides))"
   ]
  },
  {
   "cell_type": "code",
   "execution_count": 27,
   "id": "5ed49a53",
   "metadata": {},
   "outputs": [],
   "source": [
    "# save to file\n",
    "pd.Series(non_con_peptides).to_frame().rename(columns={0: 'sequence'})\\\n",
    "    .to_csv(os.path.join(DATA_DIR, 'non_canonical_peptides_in_propedia.csv'))"
   ]
  },
  {
   "cell_type": "code",
   "execution_count": 28,
   "id": "2ad12f6e",
   "metadata": {},
   "outputs": [
    {
     "data": {
      "text/plain": [
       "[('148l-E',\n",
       "  'MNIFEMLRIDEGLRLKIYKDTEGYYEIGIGHLLTKSPSLNAAKSELDKAIGRNTNGVITKDEAEKLFNQDVDAAVRGILRNAKLKPVYDSLDAVRRAALINMVFQMGETGVAGFTNSLRMLQQKRWDEAAVNLAKSRWYNQTPNRAKRVITTFRTGTWDAYKN'),\n",
       " ('1a07-A',\n",
       "  'SIQAEEWYFGKITRRESERLLLNAENPRGTFLVRESETTKGAYCLSVSDFDNAKGLNVKHYKIRKLDSGGFYITSRTQFNSLQQLVAYYSKHADGLCHRLTTVCP'),\n",
       " ('1a07-B',\n",
       "  'IQAEEWYFGKITRRESERLLLNAENPRGTFLVRESETTKGAYCLSVSDFDNAKGLNVKHYKIRKLDSGGFYITSRTQFNSLQQLVAYYSKHADGLCHRLTTVCP')]"
      ]
     },
     "execution_count": 28,
     "metadata": {},
     "output_type": "execute_result"
    }
   ],
   "source": [
    "list(d_receptor_seqs.items())[:3]"
   ]
  },
  {
   "cell_type": "code",
   "execution_count": 29,
   "id": "a73afa8b",
   "metadata": {},
   "outputs": [],
   "source": [
    "# add peptide sequence\n",
    "complex_df_neg['Peptide Sequence'] = complex_df_neg['ligand_PDBID_chain']\\\n",
    "    .map(d_peptide_seqs)\n",
    "# add receptor sequence\n",
    "complex_df_neg['Receptor Sequence'] = complex_df_neg['receptor_PDBID_chain']\\\n",
    "    .map(d_receptor_seqs)"
   ]
  },
  {
   "cell_type": "code",
   "execution_count": 30,
   "id": "ee817e91",
   "metadata": {},
   "outputs": [
    {
     "data": {
      "text/plain": [
       "receptor_PDBID           7566\n",
       "ligand_PDBID             6979\n",
       "docked_name             38320\n",
       "ligand_chain_id             2\n",
       "receptor_chain_id          51\n",
       "pdb_file                38322\n",
       "receptor_PDBID_chain    12907\n",
       "ligand_PDBID_chain      10761\n",
       "Peptide Sequence         5772\n",
       "Receptor Sequence        8280\n",
       "dtype: int64"
      ]
     },
     "execution_count": 30,
     "metadata": {},
     "output_type": "execute_result"
    }
   ],
   "source": [
    "complex_df_neg.nunique()"
   ]
  },
  {
   "cell_type": "code",
   "execution_count": 31,
   "id": "fd02fa93",
   "metadata": {},
   "outputs": [
    {
     "data": {
      "text/plain": [
       "{'Peptide Sequence',\n",
       " 'Receptor Sequence',\n",
       " 'ligand_PDBID_chain',\n",
       " 'ligand_chain_id',\n",
       " 'pdb_file',\n",
       " 'receptor_PDBID_chain',\n",
       " 'receptor_chain_id'}"
      ]
     },
     "execution_count": 31,
     "metadata": {},
     "output_type": "execute_result"
    }
   ],
   "source": [
    "set(complex_df.columns) & set(complex_df_neg.columns)"
   ]
  },
  {
   "cell_type": "code",
   "execution_count": 32,
   "id": "ebf3bd97",
   "metadata": {},
   "outputs": [
    {
     "name": "stdout",
     "output_type": "stream",
     "text": [
      "(58135, 8)\n"
     ]
    },
    {
     "data": {
      "text/html": [
       "<div>\n",
       "<style scoped>\n",
       "    .dataframe tbody tr th:only-of-type {\n",
       "        vertical-align: middle;\n",
       "    }\n",
       "\n",
       "    .dataframe tbody tr th {\n",
       "        vertical-align: top;\n",
       "    }\n",
       "\n",
       "    .dataframe thead th {\n",
       "        text-align: right;\n",
       "    }\n",
       "</style>\n",
       "<table border=\"1\" class=\"dataframe\">\n",
       "  <thead>\n",
       "    <tr style=\"text-align: right;\">\n",
       "      <th></th>\n",
       "      <th>ligand_chain_id</th>\n",
       "      <th>pdb_file</th>\n",
       "      <th>ligand_PDBID_chain</th>\n",
       "      <th>receptor_PDBID_chain</th>\n",
       "      <th>Peptide Sequence</th>\n",
       "      <th>receptor_chain_id</th>\n",
       "      <th>label</th>\n",
       "      <th>Receptor Sequence</th>\n",
       "    </tr>\n",
       "  </thead>\n",
       "  <tbody>\n",
       "    <tr>\n",
       "      <th>0</th>\n",
       "      <td>S</td>\n",
       "      <td>structures/complex/148l_S_E.pdb</td>\n",
       "      <td>148l-S</td>\n",
       "      <td>148l-E</td>\n",
       "      <td>AXXXX</td>\n",
       "      <td>E</td>\n",
       "      <td>1</td>\n",
       "      <td>MNIFEMLRIDEGLRLKIYKDTEGYYEIGIGHLLTKSPSLNAAKSEL...</td>\n",
       "    </tr>\n",
       "    <tr>\n",
       "      <th>1</th>\n",
       "      <td>C</td>\n",
       "      <td>structures/complex/1a07_C_A.pdb</td>\n",
       "      <td>1a07-C</td>\n",
       "      <td>1a07-A</td>\n",
       "      <td>XEX</td>\n",
       "      <td>A</td>\n",
       "      <td>1</td>\n",
       "      <td>SIQAEEWYFGKITRRESERLLLNAENPRGTFLVRESETTKGAYCLS...</td>\n",
       "    </tr>\n",
       "    <tr>\n",
       "      <th>2</th>\n",
       "      <td>D</td>\n",
       "      <td>structures/complex/1a07_D_B.pdb</td>\n",
       "      <td>1a07-D</td>\n",
       "      <td>1a07-B</td>\n",
       "      <td>XEX</td>\n",
       "      <td>B</td>\n",
       "      <td>1</td>\n",
       "      <td>IQAEEWYFGKITRRESERLLLNAENPRGTFLVRESETTKGAYCLSV...</td>\n",
       "    </tr>\n",
       "    <tr>\n",
       "      <th>3</th>\n",
       "      <td>C</td>\n",
       "      <td>structures/complex/1a08_C_A.pdb</td>\n",
       "      <td>1a08-C</td>\n",
       "      <td>1a08-A</td>\n",
       "      <td>XEX</td>\n",
       "      <td>A</td>\n",
       "      <td>1</td>\n",
       "      <td>SIQAEEWYFGKITRRESERLLLNAENPRGTFLVRESETTKGAYCLS...</td>\n",
       "    </tr>\n",
       "    <tr>\n",
       "      <th>4</th>\n",
       "      <td>D</td>\n",
       "      <td>structures/complex/1a08_D_B.pdb</td>\n",
       "      <td>1a08-D</td>\n",
       "      <td>1a08-B</td>\n",
       "      <td>XEX</td>\n",
       "      <td>B</td>\n",
       "      <td>1</td>\n",
       "      <td>IQAEEWYFGKITRRESERLLLNAENPRGTFLVRESETTKGAYCLSV...</td>\n",
       "    </tr>\n",
       "  </tbody>\n",
       "</table>\n",
       "</div>"
      ],
      "text/plain": [
       "  ligand_chain_id                         pdb_file ligand_PDBID_chain  \\\n",
       "0               S  structures/complex/148l_S_E.pdb             148l-S   \n",
       "1               C  structures/complex/1a07_C_A.pdb             1a07-C   \n",
       "2               D  structures/complex/1a07_D_B.pdb             1a07-D   \n",
       "3               C  structures/complex/1a08_C_A.pdb             1a08-C   \n",
       "4               D  structures/complex/1a08_D_B.pdb             1a08-D   \n",
       "\n",
       "  receptor_PDBID_chain Peptide Sequence receptor_chain_id  label  \\\n",
       "0               148l-E            AXXXX                 E      1   \n",
       "1               1a07-A              XEX                 A      1   \n",
       "2               1a07-B              XEX                 B      1   \n",
       "3               1a08-A              XEX                 A      1   \n",
       "4               1a08-B              XEX                 B      1   \n",
       "\n",
       "                                   Receptor Sequence  \n",
       "0  MNIFEMLRIDEGLRLKIYKDTEGYYEIGIGHLLTKSPSLNAAKSEL...  \n",
       "1  SIQAEEWYFGKITRRESERLLLNAENPRGTFLVRESETTKGAYCLS...  \n",
       "2  IQAEEWYFGKITRRESERLLLNAENPRGTFLVRESETTKGAYCLSV...  \n",
       "3  SIQAEEWYFGKITRRESERLLLNAENPRGTFLVRESETTKGAYCLS...  \n",
       "4  IQAEEWYFGKITRRESERLLLNAENPRGTFLVRESETTKGAYCLSV...  "
      ]
     },
     "execution_count": 32,
     "metadata": {},
     "output_type": "execute_result"
    }
   ],
   "source": [
    "complex_df['label'] = 1\n",
    "complex_df_neg['label'] = 0\n",
    "\n",
    "shared_cols = list(set(complex_df.columns) & set(complex_df_neg.columns))\n",
    "\n",
    "complex_df_comb = pd.concat([complex_df[shared_cols], complex_df_neg[shared_cols]]) \n",
    "print(complex_df_comb.shape)\n",
    "complex_df_comb.head()"
   ]
  },
  {
   "cell_type": "code",
   "execution_count": 33,
   "id": "ef5005a7",
   "metadata": {},
   "outputs": [],
   "source": [
    "# !pip install matplotlib-venn\n",
    "from matplotlib_venn import venn2"
   ]
  },
  {
   "cell_type": "code",
   "execution_count": 34,
   "id": "4904d1a5",
   "metadata": {},
   "outputs": [
    {
     "data": {
      "image/png": "[encoded data removed]",
      "text/plain": [
       "<Figure size 432x288 with 1 Axes>"
      ]
     },
     "metadata": {},
     "output_type": "display_data"
    }
   ],
   "source": [
    "venn2(\n",
    "    [set(complex_df['Peptide Sequence']),\n",
    "    set(complex_df_neg['Peptide Sequence'])],\n",
    "    ('Positive', 'Negative')\n",
    "     );"
   ]
  },
  {
   "cell_type": "code",
   "execution_count": 35,
   "id": "d1fa82b6",
   "metadata": {},
   "outputs": [
    {
     "data": {
      "image/png": "[encoded data removed]",
      "text/plain": [
       "<Figure size 432x288 with 1 Axes>"
      ]
     },
     "metadata": {},
     "output_type": "display_data"
    }
   ],
   "source": [
    "venn2(\n",
    "    [set(complex_df['Receptor Sequence']),\n",
    "    set(complex_df_neg['Receptor Sequence'])],\n",
    "    ('Positive', 'Negative')\n",
    "     );"
   ]
  },
  {
   "cell_type": "code",
   "execution_count": 36,
   "id": "664beefa",
   "metadata": {},
   "outputs": [
    {
     "data": {
      "text/plain": [
       "8130"
      ]
     },
     "execution_count": 36,
     "metadata": {},
     "output_type": "execute_result"
    }
   ],
   "source": [
    "pdb_set = set(complex_df['PDB'])\n",
    "len(pdb_set)"
   ]
  },
  {
   "cell_type": "code",
   "execution_count": 37,
   "id": "78a00299",
   "metadata": {},
   "outputs": [
    {
     "data": {
      "text/plain": [
       "True"
      ]
     },
     "execution_count": 37,
     "metadata": {},
     "output_type": "execute_result"
    }
   ],
   "source": [
    "set(complex_df_neg['receptor_PDBID']).issubset(pdb_set)"
   ]
  },
  {
   "cell_type": "code",
   "execution_count": 38,
   "id": "f2b55929",
   "metadata": {},
   "outputs": [
    {
     "data": {
      "text/plain": [
       "True"
      ]
     },
     "execution_count": 38,
     "metadata": {},
     "output_type": "execute_result"
    }
   ],
   "source": [
    "set(complex_df_neg['ligand_PDBID']).issubset(pdb_set)"
   ]
  },
  {
   "cell_type": "code",
   "execution_count": 39,
   "id": "f324f1dc",
   "metadata": {},
   "outputs": [
    {
     "data": {
      "text/plain": [
       "6492"
      ]
     },
     "execution_count": 39,
     "metadata": {},
     "output_type": "execute_result"
    }
   ],
   "source": [
    "len(set(complex_df_neg['receptor_PDBID']) & set(complex_df_neg['ligand_PDBID']))"
   ]
  },
  {
   "cell_type": "code",
   "execution_count": 40,
   "id": "f424ee0f",
   "metadata": {},
   "outputs": [],
   "source": [
    "# set(complex_df_neg['receptor_PDBID']) & set(complex_df_neg['ligand_PDBID'])"
   ]
  },
  {
   "cell_type": "markdown",
   "id": "04bfdef1",
   "metadata": {},
   "source": [
    "## Load sequence clustering results"
   ]
  },
  {
   "cell_type": "code",
   "execution_count": 41,
   "id": "5ea44372",
   "metadata": {},
   "outputs": [
    {
     "name": "stdout",
     "output_type": "stream",
     "text": [
      "(126084, 2)\n",
      "cluster_center      6814\n",
      "member            126084\n",
      "dtype: int64\n"
     ]
    }
   ],
   "source": [
    "seq_clusters_df = pd.read_csv(\n",
    "    '/home/ec2-user/SageMaker/efs/results/sequence_clustering/combined_datasets_0.6Cov0_cluster.tsv',\n",
    "    sep='\\t',\n",
    "    names=['cluster_center', 'member']\n",
    ")\n",
    "print(seq_clusters_df.shape)\n",
    "print(seq_clusters_df.nunique())"
   ]
  },
  {
   "cell_type": "code",
   "execution_count": 42,
   "id": "7602b2ef",
   "metadata": {},
   "outputs": [
    {
     "data": {
      "text/plain": [
       "125431"
      ]
     },
     "execution_count": 42,
     "metadata": {},
     "output_type": "execute_result"
    }
   ],
   "source": [
    "# parse the sequences\n",
    "fasta = SeqIO.parse('/home/ec2-user/SageMaker/efs/results/sequence_clustering/combined_datasets_0.6Cov0_all_seqs.fasta', \"fasta\")\n",
    "cluster_seqs = []\n",
    "for item in fasta:\n",
    "    seq = str(item.seq)\n",
    "    if seq != '':\n",
    "        cluster_seqs.append({'seq': seq, 'id': item.id})\n",
    "\n",
    "len(cluster_seqs)"
   ]
  },
  {
   "cell_type": "code",
   "execution_count": 43,
   "id": "ab21df10",
   "metadata": {},
   "outputs": [
    {
     "data": {
      "text/html": [
       "<div>\n",
       "<style scoped>\n",
       "    .dataframe tbody tr th:only-of-type {\n",
       "        vertical-align: middle;\n",
       "    }\n",
       "\n",
       "    .dataframe tbody tr th {\n",
       "        vertical-align: top;\n",
       "    }\n",
       "\n",
       "    .dataframe thead th {\n",
       "        text-align: right;\n",
       "    }\n",
       "</style>\n",
       "<table border=\"1\" class=\"dataframe\">\n",
       "  <thead>\n",
       "    <tr style=\"text-align: right;\">\n",
       "      <th></th>\n",
       "      <th>seq</th>\n",
       "      <th>id</th>\n",
       "    </tr>\n",
       "  </thead>\n",
       "  <tbody>\n",
       "    <tr>\n",
       "      <th>0</th>\n",
       "      <td>TVAACANLPIVRGPCRAFIQLWAFDAVKGKCVLFPYGGCQGNGNKF...</td>\n",
       "      <td>4u30_Y</td>\n",
       "    </tr>\n",
       "    <tr>\n",
       "      <th>1</th>\n",
       "      <td>IHDFCLVSKVVGRCRASMPRWWYNVTDGSCQLFVYGGCDGNSNNYL...</td>\n",
       "      <td>4u32_X</td>\n",
       "    </tr>\n",
       "    <tr>\n",
       "      <th>2</th>\n",
       "      <td>QTEDYCLASNKVGRCRGSFPRWYYDPTEQICKSFVYGGCLGNKNNY...</td>\n",
       "      <td>4iso_B</td>\n",
       "    </tr>\n",
       "    <tr>\n",
       "      <th>3</th>\n",
       "      <td>MKHQHQHQHQHQHQMHQTEDYCLASNKVGRCRGSFPRWYYDPTEQI...</td>\n",
       "      <td>1yc0_I</td>\n",
       "    </tr>\n",
       "    <tr>\n",
       "      <th>4</th>\n",
       "      <td>QTEDYCLASNKVGRCRGSFPRWYYDPTEQICKSFVYGGCLGNKNNY...</td>\n",
       "      <td>4isl_B</td>\n",
       "    </tr>\n",
       "  </tbody>\n",
       "</table>\n",
       "</div>"
      ],
      "text/plain": [
       "                                                 seq      id\n",
       "0  TVAACANLPIVRGPCRAFIQLWAFDAVKGKCVLFPYGGCQGNGNKF...  4u30_Y\n",
       "1  IHDFCLVSKVVGRCRASMPRWWYNVTDGSCQLFVYGGCDGNSNNYL...  4u32_X\n",
       "2  QTEDYCLASNKVGRCRGSFPRWYYDPTEQICKSFVYGGCLGNKNNY...  4iso_B\n",
       "3  MKHQHQHQHQHQHQMHQTEDYCLASNKVGRCRGSFPRWYYDPTEQI...  1yc0_I\n",
       "4  QTEDYCLASNKVGRCRGSFPRWYYDPTEQICKSFVYGGCLGNKNNY...  4isl_B"
      ]
     },
     "execution_count": 43,
     "metadata": {},
     "output_type": "execute_result"
    }
   ],
   "source": [
    "cluster_seqs = pd.DataFrame(cluster_seqs,)\n",
    "cluster_seqs.head()"
   ]
  },
  {
   "cell_type": "code",
   "execution_count": 44,
   "id": "5a92169f",
   "metadata": {},
   "outputs": [
    {
     "data": {
      "text/plain": [
       "seq     29039\n",
       "id     125431\n",
       "dtype: int64"
      ]
     },
     "execution_count": 44,
     "metadata": {},
     "output_type": "execute_result"
    }
   ],
   "source": [
    "cluster_seqs.nunique()"
   ]
  },
  {
   "cell_type": "code",
   "execution_count": 45,
   "id": "1d21061b",
   "metadata": {},
   "outputs": [
    {
     "data": {
      "text/plain": [
       "cluster_center    29039\n",
       "member            29039\n",
       "dtype: int64"
      ]
     },
     "execution_count": 45,
     "metadata": {},
     "output_type": "execute_result"
    }
   ],
   "source": [
    "seq_clusters_df = seq_clusters_df.merge(\n",
    "    cluster_seqs.set_index('id'),\n",
    "    left_on='member',\n",
    "    right_index=True,\n",
    "    how='left'\n",
    ").groupby('seq').first()\n",
    "seq_clusters_df.count()"
   ]
  },
  {
   "cell_type": "code",
   "execution_count": 46,
   "id": "bdde384f",
   "metadata": {},
   "outputs": [
    {
     "data": {
      "text/plain": [
       "ligand_chain_id         58135\n",
       "pdb_file                58135\n",
       "ligand_PDBID_chain      58135\n",
       "receptor_PDBID_chain    58135\n",
       "Peptide Sequence        58135\n",
       "receptor_chain_id       58135\n",
       "label                   58135\n",
       "Receptor Sequence       58135\n",
       "cluster_center          58135\n",
       "member                  58135\n",
       "dtype: int64"
      ]
     },
     "execution_count": 46,
     "metadata": {},
     "output_type": "execute_result"
    }
   ],
   "source": [
    "complex_df_comb = complex_df_comb.merge(\n",
    "    seq_clusters_df,\n",
    "    left_on='Receptor Sequence',\n",
    "    right_index=True\n",
    ")\n",
    "complex_df_comb.count()"
   ]
  },
  {
   "cell_type": "code",
   "execution_count": 47,
   "id": "08b6d5f6",
   "metadata": {},
   "outputs": [],
   "source": [
    "complex_df_comb = complex_df_comb.drop(['member'], axis=1)"
   ]
  },
  {
   "cell_type": "code",
   "execution_count": 48,
   "id": "cf7bfb83",
   "metadata": {},
   "outputs": [
    {
     "data": {
      "text/plain": [
       "ligand_chain_id            62\n",
       "pdb_file                58135\n",
       "ligand_PDBID_chain      13618\n",
       "receptor_PDBID_chain    14902\n",
       "Peptide Sequence         7101\n",
       "receptor_chain_id          52\n",
       "label                       2\n",
       "Receptor Sequence        9213\n",
       "cluster_center           1844\n",
       "dtype: int64"
      ]
     },
     "execution_count": 48,
     "metadata": {},
     "output_type": "execute_result"
    }
   ],
   "source": [
    "complex_df_comb.nunique()"
   ]
  },
  {
   "cell_type": "code",
   "execution_count": 49,
   "id": "0fadef9d",
   "metadata": {},
   "outputs": [
    {
     "data": {
      "text/plain": [
       "1bii_A                                                             2245\n",
       "5to3-A-B|Prothrombin,Thrombomodulin|Prothrombin|IVEGSDAEIG[...]    1318\n",
       "7ljr_S                                                              887\n",
       "3q95-D-B|Estrogen                                                   852\n",
       "1lxf-I-C|TROPONIN                                                   784\n",
       "                                                                   ... \n",
       "5xxb_J                                                                1\n",
       "1jmt-B-A|SPLICING                                                     1\n",
       "3qks-C-A|DNA                                                          1\n",
       "3to6-B-A|Histone                                                      1\n",
       "2v2f-A-F|PENICILLIN                                                   1\n",
       "Name: cluster_center, Length: 1844, dtype: int64"
      ]
     },
     "execution_count": 49,
     "metadata": {},
     "output_type": "execute_result"
    }
   ],
   "source": [
    "complex_df_comb['cluster_center'].value_counts()\n",
    "## Top clusters in Propedia:\n",
    "# 1bii_A: MHC CLASS I H-2DD\n",
    "# 5to3: Prothrombin,Thrombomodulin, membrane protein reduces blood coagulation\n",
    "# 7ljr_S: Fab DH1043 heavy chain"
   ]
  },
  {
   "cell_type": "markdown",
   "id": "7bd909f3",
   "metadata": {},
   "source": [
    "## Screen all pdb files are parsable "
   ]
  },
  {
   "cell_type": "code",
   "execution_count": 50,
   "id": "ebb6ca4e",
   "metadata": {},
   "outputs": [],
   "source": [
    "complex_df_comb.to_csv(\n",
    "    os.path.join(DATA_DIR, 'full_09132022.csv')\n",
    ")"
   ]
  },
  {
   "cell_type": "code",
   "execution_count": 51,
   "id": "b09faa8e",
   "metadata": {},
   "outputs": [],
   "source": [
    "from ppi.data import PDBComplexDataset\n",
    "from ppi.data_utils import NoncanonicalComplexFeaturizer, get_residue_featurizer"
   ]
  },
  {
   "cell_type": "code",
   "execution_count": 53,
   "id": "1383d737",
   "metadata": {},
   "outputs": [
    {
     "data": {
      "text/plain": [
       "58135"
      ]
     },
     "execution_count": 53,
     "metadata": {},
     "output_type": "execute_result"
    }
   ],
   "source": [
    "residue_featurizer = get_residue_featurizer('MACCS')\n",
    "featurizer = NoncanonicalComplexFeaturizer(residue_featurizer)\n",
    "full_dataset = PDBComplexDataset(\n",
    "    complex_df_comb,\n",
    "    DATA_DIR,\n",
    "    featurizer=featurizer,\n",
    "    \n",
    ")\n",
    "len(full_dataset)"
   ]
  },
  {
   "cell_type": "code",
   "execution_count": 54,
   "id": "7aaa5154",
   "metadata": {},
   "outputs": [],
   "source": [
    "from joblib import Parallel, delayed\n",
    "from tqdm import tqdm\n",
    "def parse_and_featurize(idx, dataset):\n",
    "    try:\n",
    "        g = dataset[idx]\n",
    "        return 0\n",
    "    except:\n",
    "        return 1\n"
   ]
  },
  {
   "cell_type": "code",
   "execution_count": 56,
   "id": "8d5d4aa4",
   "metadata": {},
   "outputs": [
    {
     "name": "stderr",
     "output_type": "stream",
     "text": [
      "100%|██████████| 58135/58135 [1:08:58<00:00, 14.05it/s]\n"
     ]
    }
   ],
   "source": [
    "flags = Parallel(n_jobs=-1, backend='loky')(delayed(parse_and_featurize)(idx, full_dataset) for idx in tqdm(range(len(full_dataset))))"
   ]
  },
  {
   "cell_type": "code",
   "execution_count": 57,
   "id": "c7000a15",
   "metadata": {},
   "outputs": [
    {
     "name": "stdout",
     "output_type": "stream",
     "text": [
      "number of pdb files with parsing error: 1353\n"
     ]
    }
   ],
   "source": [
    "print('number of pdb files with parsing error:', sum(flags))"
   ]
  },
  {
   "cell_type": "code",
   "execution_count": 59,
   "id": "24d3a129",
   "metadata": {},
   "outputs": [],
   "source": [
    "complex_df_comb['has_parse_and_featurize_error'] = flags\n",
    "# len(flags)"
   ]
  },
  {
   "cell_type": "code",
   "execution_count": 60,
   "id": "e75858d1",
   "metadata": {},
   "outputs": [],
   "source": [
    "complex_df_comb.to_csv(\n",
    "    os.path.join(DATA_DIR, 'full_09132022.csv')\n",
    ")"
   ]
  },
  {
   "cell_type": "code",
   "execution_count": 65,
   "id": "cae0981a",
   "metadata": {},
   "outputs": [
    {
     "data": {
      "text/plain": [
       "1    1073\n",
       "0     280\n",
       "Name: label, dtype: int64"
      ]
     },
     "execution_count": 65,
     "metadata": {},
     "output_type": "execute_result"
    }
   ],
   "source": [
    "error_mask = complex_df_comb['has_parse_and_featurize_error']==1\n",
    "complex_df_comb.loc[\n",
    "    error_mask,'label'].value_counts()"
   ]
  },
  {
   "cell_type": "code",
   "execution_count": 66,
   "id": "f00a6e95",
   "metadata": {},
   "outputs": [
    {
     "data": {
      "text/plain": [
       "ligand_PDBID_chain                763\n",
       "receptor_chain_id                  31\n",
       "label                               2\n",
       "Receptor Sequence                 189\n",
       "ligand_chain_id                    39\n",
       "receptor_PDBID_chain              301\n",
       "pdb_file                         1353\n",
       "Peptide Sequence                  435\n",
       "cluster_center                     72\n",
       "has_parse_and_featurize_error       1\n",
       "dtype: int64"
      ]
     },
     "execution_count": 66,
     "metadata": {},
     "output_type": "execute_result"
    }
   ],
   "source": [
    "complex_df_comb.loc[error_mask].nunique()"
   ]
  },
  {
   "cell_type": "code",
   "execution_count": 68,
   "id": "5fd646f1",
   "metadata": {},
   "outputs": [
    {
     "data": {
      "text/plain": [
       "(56782, 10)"
      ]
     },
     "execution_count": 68,
     "metadata": {},
     "output_type": "execute_result"
    }
   ],
   "source": [
    "# remove rows with errors \n",
    "complex_df_comb = complex_df_comb.loc[~error_mask]\n",
    "complex_df_comb.shape"
   ]
  },
  {
   "cell_type": "markdown",
   "id": "dea09988",
   "metadata": {},
   "source": [
    "## Train/test split "
   ]
  },
  {
   "cell_type": "code",
   "execution_count": 69,
   "id": "4b71980e",
   "metadata": {},
   "outputs": [],
   "source": [
    "from sklearn import model_selection"
   ]
  },
  {
   "cell_type": "code",
   "execution_count": 70,
   "id": "f3c05f58",
   "metadata": {},
   "outputs": [
    {
     "name": "stdout",
     "output_type": "stream",
     "text": [
      "Train/test ratio: 4.001056896248018\n",
      "Train pos label ratio: 0.330060755481201\n",
      "Test pos label ratio: 0.3299277787563854\n",
      "Train/test ratio: 4.0014974015678675\n",
      "Train pos label ratio: 0.330075502432367\n",
      "Test pos label ratio: 0.32986875715669867\n",
      "Train/test ratio: 3.9953373801354797\n",
      "Train pos label ratio: 0.32997908180116703\n",
      "Test pos label ratio: 0.3302542447435559\n",
      "Train/test ratio: 4.0014974015678675\n",
      "Train pos label ratio: 0.3300094653195096\n",
      "Test pos label ratio: 0.33013300449220473\n",
      "Train/test ratio: 4.000616468516072\n",
      "Train pos label ratio: 0.33004600788077576\n",
      "Test pos label ratio: 0.3299867899603699\n"
     ]
    }
   ],
   "source": [
    "splitter = model_selection.StratifiedGroupKFold(\n",
    "    n_splits=5,\n",
    "#     shuffle=True,\n",
    "#     random_state=42\n",
    ")\n",
    "\n",
    "for train_idxs, test_idxs in splitter.split(\n",
    "    complex_df_comb, \n",
    "    y=complex_df_comb['label'],\n",
    "    groups=complex_df_comb['cluster_center']\n",
    "):\n",
    "    print('Train/test ratio:', len(train_idxs)/len(test_idxs))\n",
    "    print('Train pos label ratio:',\n",
    "          complex_df_comb['label'].iloc[train_idxs].mean()\n",
    "         )\n",
    "    print('Test pos label ratio:',\n",
    "          complex_df_comb['label'].iloc[test_idxs].mean()\n",
    "         )\n"
   ]
  },
  {
   "cell_type": "code",
   "execution_count": 71,
   "id": "a645c5e6",
   "metadata": {},
   "outputs": [
    {
     "data": {
      "text/plain": [
       "((45427,), (11355,))"
      ]
     },
     "execution_count": 71,
     "metadata": {},
     "output_type": "execute_result"
    }
   ],
   "source": [
    "train_idxs.shape, test_idxs.shape"
   ]
  },
  {
   "cell_type": "code",
   "execution_count": 72,
   "id": "06798507",
   "metadata": {},
   "outputs": [],
   "source": [
    "# !ls {DATA_DIR}"
   ]
  },
  {
   "cell_type": "code",
   "execution_count": 76,
   "id": "c6caddb3",
   "metadata": {},
   "outputs": [],
   "source": [
    "complex_df_comb.iloc[train_idxs].to_csv(\n",
    "    os.path.join(DATA_DIR, 'train_full.csv')\n",
    ")\n",
    "complex_df_comb.iloc[test_idxs].to_csv(\n",
    "    os.path.join(DATA_DIR, 'test_full.csv')\n",
    ")"
   ]
  },
  {
   "cell_type": "code",
   "execution_count": 79,
   "id": "d23ff6c1",
   "metadata": {},
   "outputs": [],
   "source": [
    "# subsample to make smaller versions of the dataset\n",
    "complex_df_comb.iloc[train_idxs].sample(\n",
    "    frac=0.1,\n",
    "    random_state=42\n",
    ").to_csv(\n",
    "    os.path.join(DATA_DIR, 'train_small.csv')\n",
    ")\n",
    "\n",
    "complex_df_comb.iloc[test_idxs].sample(\n",
    "    frac=0.1,\n",
    "    random_state=42\n",
    ").to_csv(\n",
    "    os.path.join(DATA_DIR, 'test_small.csv')\n",
    ")"
   ]
  },
  {
   "cell_type": "markdown",
   "id": "6b7452eb",
   "metadata": {},
   "source": [
    "## Top receptor clusters\n",
    "- Training set:\n",
    "    + [1bii_A](https://www.rcsb.org/3d-view/1BII): MHC class I \n",
    "    + [7ljr_S](https://www.rcsb.org/3d-view/7LJR): fragment antigen-binding regions (Fab) dh1043 heavy chain\n",
    "    + [3q95-D-B|Estrogen](https://www.rcsb.org/3d-view/3q95)\n",
    "    + [1lxf-I-C|TROPONIN](https://www.rcsb.org/3d-view/1lxf): integral to muscle contraction in skeletal muscle and cardiac muscle\n",
    "    + [5yax-C-B|scFv1](https://www.rcsb.org/3d-view/5yax): single chain fragment variable(scFv1) human neutralizing antibody\n",
    "    \n",
    "- Test set:\n",
    "    + [5to3-A-B|Prothrombin,Thrombomodulin|Prothrombin](https://www.rcsb.org/3d-view/5TO3): integral membrane protein expressed on the surface of endothelial cells and serves as a cofactor for thrombin. It reduces blood coagulation.\n",
    "    + [6f08-N-J|14-3-3](https://www.rcsb.org/3d-view/6f08): central hub protein for many signal transduction pathways. 14-3-3ζ is a major regulator of apoptotic pathways.\n",
    "    + [3rdq-A](https://www.rcsb.org/3d-view/3RDQ): Streptavidin, from the bacterium Streptomyces avidinii, have an extraordinarily high affinity for biotin.\n",
    "    + [2jet-A-C|CHYMOTRYPSINOGEN](https://www.rcsb.org/3d-view/2JET): an inactive precursor of chymotrypsin, a digestive enzyme which breaks proteins down into smaller peptides. \n",
    "    + [1q1s-A-C|Importin](https://www.rcsb.org/3d-view/1q1s): a type of karyopherin that transports protein molecules from the cell's cytoplasm to the nucleus."
   ]
  },
  {
   "cell_type": "code",
   "execution_count": 80,
   "id": "6082c7b1",
   "metadata": {},
   "outputs": [
    {
     "data": {
      "text/plain": [
       "1bii_A                                   2228\n",
       "7ljr_S                                    887\n",
       "3q95-D-B|Estrogen                         852\n",
       "1lxf-I-C|TROPONIN                         784\n",
       "5yax-C-B|scFv1                            629\n",
       "                                         ... \n",
       "2oq1-B-A|Tyrosine-protein                   1\n",
       "3t62_D                                      1\n",
       "3qks-C-A|DNA                                1\n",
       "2mpm-B-A|Eotaxin|CCR3|GPASVPTTCC[...]       1\n",
       "5kq1_E                                      1\n",
       "Name: cluster_center, Length: 1434, dtype: int64"
      ]
     },
     "execution_count": 80,
     "metadata": {},
     "output_type": "execute_result"
    }
   ],
   "source": [
    "# top clusters in training set:\n",
    "complex_df_comb.iloc[train_idxs]['cluster_center'].value_counts()"
   ]
  },
  {
   "cell_type": "code",
   "execution_count": 81,
   "id": "5ff8b65d",
   "metadata": {},
   "outputs": [
    {
     "data": {
      "text/plain": [
       "5to3-A-B|Prothrombin,Thrombomodulin|Prothrombin|IVEGSDAEIG[...]    1309\n",
       "6f08-N-J|14-3-3                                                     556\n",
       "3rdq-A                                                              341\n",
       "2jet-A-C|CHYMOTRYPSINOGEN                                           283\n",
       "1q1s-A-C|Importin                                                   224\n",
       "                                                                   ... \n",
       "1jmt-B-A|SPLICING                                                     1\n",
       "5kds-G-A|F5/8                                                         1\n",
       "2j0s-T-A|ATP-DEPENDENT                                                1\n",
       "6xte-B-A|Importin-5|antipain|AMAAAEQQQF[...]                          1\n",
       "1fo0-P-B|PROTEIN                                                      1\n",
       "Name: cluster_center, Length: 392, dtype: int64"
      ]
     },
     "execution_count": 81,
     "metadata": {},
     "output_type": "execute_result"
    }
   ],
   "source": [
    "# top clusters in test set:\n",
    "complex_df_comb.iloc[test_idxs]['cluster_center'].value_counts()"
   ]
  },
  {
   "cell_type": "code",
   "execution_count": 75,
   "id": "43fcd0ee",
   "metadata": {
    "collapsed": true,
    "jupyter": {
     "outputs_hidden": true
    }
   },
   "outputs": [
    {
     "data": {
      "text/plain": [
       "18740"
      ]
     },
     "execution_count": 75,
     "metadata": {},
     "output_type": "execute_result"
    },
    {
     "name": "stderr",
     "output_type": "stream",
     "text": [
      "/home/ec2-user/SageMaker/ppi-model/ppi/data_utils/residue_featurizers.py:50: UserWarning: The given buffer is not writable, and PyTorch does not support non-writable tensors. This means you can write to the underlying (supposedly non-writable) buffer using the tensor. You may want to copy the buffer to protect its data or make it writable before converting it to a tensor. This type of warning will be suppressed for the rest of this program. (Triggered internally at  /opt/conda/conda-bld/pytorch_1634272172048/work/torch/csrc/autograd/python_torch_functions_manual.cpp:489.)\n",
      "  fps_vec = torch.frombuffer(\n",
      "/home/ec2-user/SageMaker/ppi-model/ppi/data_utils/residue_featurizers.py:50: UserWarning: The given buffer is not writable, and PyTorch does not support non-writable tensors. This means you can write to the underlying (supposedly non-writable) buffer using the tensor. You may want to copy the buffer to protect its data or make it writable before converting it to a tensor. This type of warning will be suppressed for the rest of this program. (Triggered internally at  /opt/conda/conda-bld/pytorch_1634272172048/work/torch/csrc/autograd/python_torch_functions_manual.cpp:489.)\n",
      "  fps_vec = torch.frombuffer(\n",
      "/home/ec2-user/SageMaker/ppi-model/ppi/data_utils/residue_featurizers.py:50: UserWarning: The given buffer is not writable, and PyTorch does not support non-writable tensors. This means you can write to the underlying (supposedly non-writable) buffer using the tensor. You may want to copy the buffer to protect its data or make it writable before converting it to a tensor. This type of warning will be suppressed for the rest of this program. (Triggered internally at  /opt/conda/conda-bld/pytorch_1634272172048/work/torch/csrc/autograd/python_torch_functions_manual.cpp:489.)\n",
      "  fps_vec = torch.frombuffer(\n",
      "/home/ec2-user/SageMaker/ppi-model/ppi/data_utils/residue_featurizers.py:50: UserWarning: The given buffer is not writable, and PyTorch does not support non-writable tensors. This means you can write to the underlying (supposedly non-writable) buffer using the tensor. You may want to copy the buffer to protect its data or make it writable before converting it to a tensor. This type of warning will be suppressed for the rest of this program. (Triggered internally at  /opt/conda/conda-bld/pytorch_1634272172048/work/torch/csrc/autograd/python_torch_functions_manual.cpp:489.)\n",
      "  fps_vec = torch.frombuffer(\n",
      "/home/ec2-user/SageMaker/ppi-model/ppi/data_utils/residue_featurizers.py:50: UserWarning: The given buffer is not writable, and PyTorch does not support non-writable tensors. This means you can write to the underlying (supposedly non-writable) buffer using the tensor. You may want to copy the buffer to protect its data or make it writable before converting it to a tensor. This type of warning will be suppressed for the rest of this program. (Triggered internally at  /opt/conda/conda-bld/pytorch_1634272172048/work/torch/csrc/autograd/python_torch_functions_manual.cpp:489.)\n",
      "  fps_vec = torch.frombuffer(\n",
      "/home/ec2-user/SageMaker/ppi-model/ppi/data_utils/residue_featurizers.py:50: UserWarning: The given buffer is not writable, and PyTorch does not support non-writable tensors. This means you can write to the underlying (supposedly non-writable) buffer using the tensor. You may want to copy the buffer to protect its data or make it writable before converting it to a tensor. This type of warning will be suppressed for the rest of this program. (Triggered internally at  /opt/conda/conda-bld/pytorch_1634272172048/work/torch/csrc/autograd/python_torch_functions_manual.cpp:489.)\n",
      "  fps_vec = torch.frombuffer(\n",
      "/home/ec2-user/SageMaker/ppi-model/ppi/data_utils/residue_featurizers.py:50: UserWarning: The given buffer is not writable, and PyTorch does not support non-writable tensors. This means you can write to the underlying (supposedly non-writable) buffer using the tensor. You may want to copy the buffer to protect its data or make it writable before converting it to a tensor. This type of warning will be suppressed for the rest of this program. (Triggered internally at  /opt/conda/conda-bld/pytorch_1634272172048/work/torch/csrc/autograd/python_torch_functions_manual.cpp:489.)\n",
      "  fps_vec = torch.frombuffer(\n",
      "/home/ec2-user/SageMaker/ppi-model/ppi/data_utils/residue_featurizers.py:50: UserWarning: The given buffer is not writable, and PyTorch does not support non-writable tensors. This means you can write to the underlying (supposedly non-writable) buffer using the tensor. You may want to copy the buffer to protect its data or make it writable before converting it to a tensor. This type of warning will be suppressed for the rest of this program. (Triggered internally at  /opt/conda/conda-bld/pytorch_1634272172048/work/torch/csrc/autograd/python_torch_functions_manual.cpp:489.)\n",
      "  fps_vec = torch.frombuffer(\n",
      "/home/ec2-user/SageMaker/ppi-model/ppi/data_utils/residue_featurizers.py:50: UserWarning: The given buffer is not writable, and PyTorch does not support non-writable tensors. This means you can write to the underlying (supposedly non-writable) buffer using the tensor. You may want to copy the buffer to protect its data or make it writable before converting it to a tensor. This type of warning will be suppressed for the rest of this program. (Triggered internally at  /opt/conda/conda-bld/pytorch_1634272172048/work/torch/csrc/autograd/python_torch_functions_manual.cpp:489.)\n",
      "  fps_vec = torch.frombuffer(\n",
      "/home/ec2-user/SageMaker/ppi-model/ppi/data_utils/residue_featurizers.py:50: UserWarning: The given buffer is not writable, and PyTorch does not support non-writable tensors. This means you can write to the underlying (supposedly non-writable) buffer using the tensor. You may want to copy the buffer to protect its data or make it writable before converting it to a tensor. This type of warning will be suppressed for the rest of this program. (Triggered internally at  /opt/conda/conda-bld/pytorch_1634272172048/work/torch/csrc/autograd/python_torch_functions_manual.cpp:489.)\n",
      "  fps_vec = torch.frombuffer(\n",
      "/home/ec2-user/SageMaker/ppi-model/ppi/data_utils/residue_featurizers.py:50: UserWarning: The given buffer is not writable, and PyTorch does not support non-writable tensors. This means you can write to the underlying (supposedly non-writable) buffer using the tensor. You may want to copy the buffer to protect its data or make it writable before converting it to a tensor. This type of warning will be suppressed for the rest of this program. (Triggered internally at  /opt/conda/conda-bld/pytorch_1634272172048/work/torch/csrc/autograd/python_torch_functions_manual.cpp:489.)\n",
      "  fps_vec = torch.frombuffer(\n",
      "/home/ec2-user/SageMaker/ppi-model/ppi/data_utils/residue_featurizers.py:50: UserWarning: The given buffer is not writable, and PyTorch does not support non-writable tensors. This means you can write to the underlying (supposedly non-writable) buffer using the tensor. You may want to copy the buffer to protect its data or make it writable before converting it to a tensor. This type of warning will be suppressed for the rest of this program. (Triggered internally at  /opt/conda/conda-bld/pytorch_1634272172048/work/torch/csrc/autograd/python_torch_functions_manual.cpp:489.)\n",
      "  fps_vec = torch.frombuffer(\n",
      "/home/ec2-user/SageMaker/ppi-model/ppi/data_utils/residue_featurizers.py:50: UserWarning: The given buffer is not writable, and PyTorch does not support non-writable tensors. This means you can write to the underlying (supposedly non-writable) buffer using the tensor. You may want to copy the buffer to protect its data or make it writable before converting it to a tensor. This type of warning will be suppressed for the rest of this program. (Triggered internally at  /opt/conda/conda-bld/pytorch_1634272172048/work/torch/csrc/autograd/python_torch_functions_manual.cpp:489.)\n",
      "  fps_vec = torch.frombuffer(\n",
      "/home/ec2-user/SageMaker/ppi-model/ppi/data_utils/residue_featurizers.py:50: UserWarning: The given buffer is not writable, and PyTorch does not support non-writable tensors. This means you can write to the underlying (supposedly non-writable) buffer using the tensor. You may want to copy the buffer to protect its data or make it writable before converting it to a tensor. This type of warning will be suppressed for the rest of this program. (Triggered internally at  /opt/conda/conda-bld/pytorch_1634272172048/work/torch/csrc/autograd/python_torch_functions_manual.cpp:489.)\n",
      "  fps_vec = torch.frombuffer(\n",
      "/home/ec2-user/SageMaker/ppi-model/ppi/data_utils/residue_featurizers.py:50: UserWarning: The given buffer is not writable, and PyTorch does not support non-writable tensors. This means you can write to the underlying (supposedly non-writable) buffer using the tensor. You may want to copy the buffer to protect its data or make it writable before converting it to a tensor. This type of warning will be suppressed for the rest of this program. (Triggered internally at  /opt/conda/conda-bld/pytorch_1634272172048/work/torch/csrc/autograd/python_torch_functions_manual.cpp:489.)\n",
      "  fps_vec = torch.frombuffer(\n",
      "/home/ec2-user/SageMaker/ppi-model/ppi/data_utils/residue_featurizers.py:50: UserWarning: The given buffer is not writable, and PyTorch does not support non-writable tensors. This means you can write to the underlying (supposedly non-writable) buffer using the tensor. You may want to copy the buffer to protect its data or make it writable before converting it to a tensor. This type of warning will be suppressed for the rest of this program. (Triggered internally at  /opt/conda/conda-bld/pytorch_1634272172048/work/torch/csrc/autograd/python_torch_functions_manual.cpp:489.)\n",
      "  fps_vec = torch.frombuffer(\n",
      "/home/ec2-user/SageMaker/ppi-model/ppi/data_utils/residue_featurizers.py:50: UserWarning: The given buffer is not writable, and PyTorch does not support non-writable tensors. This means you can write to the underlying (supposedly non-writable) buffer using the tensor. You may want to copy the buffer to protect its data or make it writable before converting it to a tensor. This type of warning will be suppressed for the rest of this program. (Triggered internally at  /opt/conda/conda-bld/pytorch_1634272172048/work/torch/csrc/autograd/python_torch_functions_manual.cpp:489.)\n",
      "  fps_vec = torch.frombuffer(\n",
      "/home/ec2-user/SageMaker/ppi-model/ppi/data_utils/residue_featurizers.py:50: UserWarning: The given buffer is not writable, and PyTorch does not support non-writable tensors. This means you can write to the underlying (supposedly non-writable) buffer using the tensor. You may want to copy the buffer to protect its data or make it writable before converting it to a tensor. This type of warning will be suppressed for the rest of this program. (Triggered internally at  /opt/conda/conda-bld/pytorch_1634272172048/work/torch/csrc/autograd/python_torch_functions_manual.cpp:489.)\n",
      "  fps_vec = torch.frombuffer(\n",
      "/home/ec2-user/SageMaker/ppi-model/ppi/data_utils/residue_featurizers.py:50: UserWarning: The given buffer is not writable, and PyTorch does not support non-writable tensors. This means you can write to the underlying (supposedly non-writable) buffer using the tensor. You may want to copy the buffer to protect its data or make it writable before converting it to a tensor. This type of warning will be suppressed for the rest of this program. (Triggered internally at  /opt/conda/conda-bld/pytorch_1634272172048/work/torch/csrc/autograd/python_torch_functions_manual.cpp:489.)\n",
      "  fps_vec = torch.frombuffer(\n",
      "/home/ec2-user/SageMaker/ppi-model/ppi/data_utils/residue_featurizers.py:50: UserWarning: The given buffer is not writable, and PyTorch does not support non-writable tensors. This means you can write to the underlying (supposedly non-writable) buffer using the tensor. You may want to copy the buffer to protect its data or make it writable before converting it to a tensor. This type of warning will be suppressed for the rest of this program. (Triggered internally at  /opt/conda/conda-bld/pytorch_1634272172048/work/torch/csrc/autograd/python_torch_functions_manual.cpp:489.)\n",
      "  fps_vec = torch.frombuffer(\n",
      "/home/ec2-user/SageMaker/ppi-model/ppi/data_utils/residue_featurizers.py:50: UserWarning: The given buffer is not writable, and PyTorch does not support non-writable tensors. This means you can write to the underlying (supposedly non-writable) buffer using the tensor. You may want to copy the buffer to protect its data or make it writable before converting it to a tensor. This type of warning will be suppressed for the rest of this program. (Triggered internally at  /opt/conda/conda-bld/pytorch_1634272172048/work/torch/csrc/autograd/python_torch_functions_manual.cpp:489.)\n",
      "  fps_vec = torch.frombuffer(\n",
      "/home/ec2-user/SageMaker/ppi-model/ppi/data_utils/residue_featurizers.py:50: UserWarning: The given buffer is not writable, and PyTorch does not support non-writable tensors. This means you can write to the underlying (supposedly non-writable) buffer using the tensor. You may want to copy the buffer to protect its data or make it writable before converting it to a tensor. This type of warning will be suppressed for the rest of this program. (Triggered internally at  /opt/conda/conda-bld/pytorch_1634272172048/work/torch/csrc/autograd/python_torch_functions_manual.cpp:489.)\n",
      "  fps_vec = torch.frombuffer(\n",
      "/home/ec2-user/SageMaker/ppi-model/ppi/data_utils/residue_featurizers.py:50: UserWarning: The given buffer is not writable, and PyTorch does not support non-writable tensors. This means you can write to the underlying (supposedly non-writable) buffer using the tensor. You may want to copy the buffer to protect its data or make it writable before converting it to a tensor. This type of warning will be suppressed for the rest of this program. (Triggered internally at  /opt/conda/conda-bld/pytorch_1634272172048/work/torch/csrc/autograd/python_torch_functions_manual.cpp:489.)\n",
      "  fps_vec = torch.frombuffer(\n",
      "/home/ec2-user/SageMaker/ppi-model/ppi/data_utils/residue_featurizers.py:50: UserWarning: The given buffer is not writable, and PyTorch does not support non-writable tensors. This means you can write to the underlying (supposedly non-writable) buffer using the tensor. You may want to copy the buffer to protect its data or make it writable before converting it to a tensor. This type of warning will be suppressed for the rest of this program. (Triggered internally at  /opt/conda/conda-bld/pytorch_1634272172048/work/torch/csrc/autograd/python_torch_functions_manual.cpp:489.)\n",
      "  fps_vec = torch.frombuffer(\n",
      "/home/ec2-user/SageMaker/ppi-model/ppi/data_utils/residue_featurizers.py:50: UserWarning: The given buffer is not writable, and PyTorch does not support non-writable tensors. This means you can write to the underlying (supposedly non-writable) buffer using the tensor. You may want to copy the buffer to protect its data or make it writable before converting it to a tensor. This type of warning will be suppressed for the rest of this program. (Triggered internally at  /opt/conda/conda-bld/pytorch_1634272172048/work/torch/csrc/autograd/python_torch_functions_manual.cpp:489.)\n",
      "  fps_vec = torch.frombuffer(\n",
      "/home/ec2-user/SageMaker/ppi-model/ppi/data_utils/residue_featurizers.py:50: UserWarning: The given buffer is not writable, and PyTorch does not support non-writable tensors. This means you can write to the underlying (supposedly non-writable) buffer using the tensor. You may want to copy the buffer to protect its data or make it writable before converting it to a tensor. This type of warning will be suppressed for the rest of this program. (Triggered internally at  /opt/conda/conda-bld/pytorch_1634272172048/work/torch/csrc/autograd/python_torch_functions_manual.cpp:489.)\n",
      "  fps_vec = torch.frombuffer(\n",
      "/home/ec2-user/SageMaker/ppi-model/ppi/data_utils/residue_featurizers.py:50: UserWarning: The given buffer is not writable, and PyTorch does not support non-writable tensors. This means you can write to the underlying (supposedly non-writable) buffer using the tensor. You may want to copy the buffer to protect its data or make it writable before converting it to a tensor. This type of warning will be suppressed for the rest of this program. (Triggered internally at  /opt/conda/conda-bld/pytorch_1634272172048/work/torch/csrc/autograd/python_torch_functions_manual.cpp:489.)\n",
      "  fps_vec = torch.frombuffer(\n",
      "/home/ec2-user/SageMaker/ppi-model/ppi/data_utils/residue_featurizers.py:50: UserWarning: The given buffer is not writable, and PyTorch does not support non-writable tensors. This means you can write to the underlying (supposedly non-writable) buffer using the tensor. You may want to copy the buffer to protect its data or make it writable before converting it to a tensor. This type of warning will be suppressed for the rest of this program. (Triggered internally at  /opt/conda/conda-bld/pytorch_1634272172048/work/torch/csrc/autograd/python_torch_functions_manual.cpp:489.)\n",
      "  fps_vec = torch.frombuffer(\n",
      "/home/ec2-user/SageMaker/ppi-model/ppi/data_utils/residue_featurizers.py:50: UserWarning: The given buffer is not writable, and PyTorch does not support non-writable tensors. This means you can write to the underlying (supposedly non-writable) buffer using the tensor. You may want to copy the buffer to protect its data or make it writable before converting it to a tensor. This type of warning will be suppressed for the rest of this program. (Triggered internally at  /opt/conda/conda-bld/pytorch_1634272172048/work/torch/csrc/autograd/python_torch_functions_manual.cpp:489.)\n",
      "  fps_vec = torch.frombuffer(\n",
      "/home/ec2-user/SageMaker/ppi-model/ppi/data_utils/residue_featurizers.py:50: UserWarning: The given buffer is not writable, and PyTorch does not support non-writable tensors. This means you can write to the underlying (supposedly non-writable) buffer using the tensor. You may want to copy the buffer to protect its data or make it writable before converting it to a tensor. This type of warning will be suppressed for the rest of this program. (Triggered internally at  /opt/conda/conda-bld/pytorch_1634272172048/work/torch/csrc/autograd/python_torch_functions_manual.cpp:489.)\n",
      "  fps_vec = torch.frombuffer(\n",
      "/home/ec2-user/SageMaker/ppi-model/ppi/data_utils/residue_featurizers.py:50: UserWarning: The given buffer is not writable, and PyTorch does not support non-writable tensors. This means you can write to the underlying (supposedly non-writable) buffer using the tensor. You may want to copy the buffer to protect its data or make it writable before converting it to a tensor. This type of warning will be suppressed for the rest of this program. (Triggered internally at  /opt/conda/conda-bld/pytorch_1634272172048/work/torch/csrc/autograd/python_torch_functions_manual.cpp:489.)\n",
      "  fps_vec = torch.frombuffer(\n",
      "/home/ec2-user/SageMaker/ppi-model/ppi/data_utils/residue_featurizers.py:50: UserWarning: The given buffer is not writable, and PyTorch does not support non-writable tensors. This means you can write to the underlying (supposedly non-writable) buffer using the tensor. You may want to copy the buffer to protect its data or make it writable before converting it to a tensor. This type of warning will be suppressed for the rest of this program. (Triggered internally at  /opt/conda/conda-bld/pytorch_1634272172048/work/torch/csrc/autograd/python_torch_functions_manual.cpp:489.)\n",
      "  fps_vec = torch.frombuffer(\n"
     ]
    }
   ],
   "source": [
    "complex_df_comb.loc[complex_df_comb['label']==1, 'pdb_file'].nunique()"
   ]
  },
  {
   "cell_type": "markdown",
   "id": "8c049ef4",
   "metadata": {},
   "source": [
    "## Load `selfdock` dataset"
   ]
  },
  {
   "cell_type": "code",
   "execution_count": 211,
   "id": "3427248f",
   "metadata": {},
   "outputs": [
    {
     "name": "stdout",
     "output_type": "stream",
     "text": [
      "(4543, 10) (1136, 10)\n"
     ]
    }
   ],
   "source": [
    "train_sm_df = pd.read_csv(\n",
    "    os.path.join(DATA_DIR, 'train_small.csv'),\n",
    "    index_col=0    \n",
    ")\n",
    "test_sm_df = pd.read_csv(\n",
    "    os.path.join(DATA_DIR, 'test_small.csv'),\n",
    "    index_col=0\n",
    ")\n",
    "print(train_sm_df.shape, test_sm_df.shape)"
   ]
  },
  {
   "cell_type": "code",
   "execution_count": 212,
   "id": "f5de3917",
   "metadata": {},
   "outputs": [
    {
     "data": {
      "text/html": [
       "<div>\n",
       "<style scoped>\n",
       "    .dataframe tbody tr th:only-of-type {\n",
       "        vertical-align: middle;\n",
       "    }\n",
       "\n",
       "    .dataframe tbody tr th {\n",
       "        vertical-align: top;\n",
       "    }\n",
       "\n",
       "    .dataframe thead th {\n",
       "        text-align: right;\n",
       "    }\n",
       "</style>\n",
       "<table border=\"1\" class=\"dataframe\">\n",
       "  <thead>\n",
       "    <tr style=\"text-align: right;\">\n",
       "      <th></th>\n",
       "      <th>ligand_PDBID_chain</th>\n",
       "      <th>receptor_chain_id</th>\n",
       "      <th>label</th>\n",
       "      <th>Receptor Sequence</th>\n",
       "      <th>ligand_chain_id</th>\n",
       "      <th>receptor_PDBID_chain</th>\n",
       "      <th>pdb_file</th>\n",
       "      <th>Peptide Sequence</th>\n",
       "      <th>cluster_center</th>\n",
       "      <th>has_parse_and_featurize_error</th>\n",
       "    </tr>\n",
       "  </thead>\n",
       "  <tbody>\n",
       "    <tr>\n",
       "      <th>203</th>\n",
       "      <td>6ef5-Q</td>\n",
       "      <td>H</td>\n",
       "      <td>0</td>\n",
       "      <td>IVEGSDAEIGMSPWQVMLFRKSPQELLCGASLISDRWVLTAAHCLL...</td>\n",
       "      <td>X</td>\n",
       "      <td>1bcu-H</td>\n",
       "      <td>nr_aws_19k/docked_pdbs/1bcu_H_6ef5_Q_refined.pdb</td>\n",
       "      <td>RSLXAPG</td>\n",
       "      <td>5to3-A-B|Prothrombin,Thrombomodulin|Prothrombi...</td>\n",
       "      <td>0</td>\n",
       "    </tr>\n",
       "    <tr>\n",
       "      <th>18865</th>\n",
       "      <td>5dxg-C</td>\n",
       "      <td>E</td>\n",
       "      <td>0</td>\n",
       "      <td>GAMGSMERASLIQKAKLAEQAERYEDMAAFMKGAVEKGEELSXEER...</td>\n",
       "      <td>X</td>\n",
       "      <td>6qzr-E</td>\n",
       "      <td>nr_aws_19k/docked_pdbs/6qzr_E_5dxg_C_refined.pdb</td>\n",
       "      <td>HKXLHRXLQDSX</td>\n",
       "      <td>6f08-N-J|14-3-3</td>\n",
       "      <td>0</td>\n",
       "    </tr>\n",
       "    <tr>\n",
       "      <th>8111</th>\n",
       "      <td>3u9q-B</td>\n",
       "      <td>A</td>\n",
       "      <td>1</td>\n",
       "      <td>SADLRALAKHLYDSYIKSFPLTKAKARAILTGKTTDKSPFVIYDMN...</td>\n",
       "      <td>B</td>\n",
       "      <td>3u9q-A</td>\n",
       "      <td>structures/complex/3u9q_B_A.pdb</td>\n",
       "      <td>SLLKKLLLA</td>\n",
       "      <td>1k74_D</td>\n",
       "      <td>0</td>\n",
       "    </tr>\n",
       "    <tr>\n",
       "      <th>1522</th>\n",
       "      <td>2ovr-C</td>\n",
       "      <td>A</td>\n",
       "      <td>0</td>\n",
       "      <td>GSPGIRLGSSEDNFARFVCKNNGVLFENQLLQIGLKSEFRQNLGRM...</td>\n",
       "      <td>X</td>\n",
       "      <td>1kyu-A</td>\n",
       "      <td>propedia_aws_19k/docked_pdbs/1kyu_A_2ovr_C_ref...</td>\n",
       "      <td>SLIPPDK</td>\n",
       "      <td>1w80-P-A|ADAPTER-RELATED</td>\n",
       "      <td>0</td>\n",
       "    </tr>\n",
       "    <tr>\n",
       "      <th>9185</th>\n",
       "      <td>5h7h-C</td>\n",
       "      <td>B</td>\n",
       "      <td>0</td>\n",
       "      <td>APPQEQKQMLGERLFPLIQAMHPTLAGKITGMLLEIDNSELLHMLE...</td>\n",
       "      <td>X</td>\n",
       "      <td>3kus-B</td>\n",
       "      <td>propedia_aws_19k/docked_pdbs/3kus_B_5h7h_C_ref...</td>\n",
       "      <td>WRVP</td>\n",
       "      <td>1jgn-B-A|polyadenylate-binding</td>\n",
       "      <td>0</td>\n",
       "    </tr>\n",
       "  </tbody>\n",
       "</table>\n",
       "</div>"
      ],
      "text/plain": [
       "      ligand_PDBID_chain receptor_chain_id  label  \\\n",
       "203               6ef5-Q                 H      0   \n",
       "18865             5dxg-C                 E      0   \n",
       "8111              3u9q-B                 A      1   \n",
       "1522              2ovr-C                 A      0   \n",
       "9185              5h7h-C                 B      0   \n",
       "\n",
       "                                       Receptor Sequence ligand_chain_id  \\\n",
       "203    IVEGSDAEIGMSPWQVMLFRKSPQELLCGASLISDRWVLTAAHCLL...               X   \n",
       "18865  GAMGSMERASLIQKAKLAEQAERYEDMAAFMKGAVEKGEELSXEER...               X   \n",
       "8111   SADLRALAKHLYDSYIKSFPLTKAKARAILTGKTTDKSPFVIYDMN...               B   \n",
       "1522   GSPGIRLGSSEDNFARFVCKNNGVLFENQLLQIGLKSEFRQNLGRM...               X   \n",
       "9185   APPQEQKQMLGERLFPLIQAMHPTLAGKITGMLLEIDNSELLHMLE...               X   \n",
       "\n",
       "      receptor_PDBID_chain                                           pdb_file  \\\n",
       "203                 1bcu-H   nr_aws_19k/docked_pdbs/1bcu_H_6ef5_Q_refined.pdb   \n",
       "18865               6qzr-E   nr_aws_19k/docked_pdbs/6qzr_E_5dxg_C_refined.pdb   \n",
       "8111                3u9q-A                    structures/complex/3u9q_B_A.pdb   \n",
       "1522                1kyu-A  propedia_aws_19k/docked_pdbs/1kyu_A_2ovr_C_ref...   \n",
       "9185                3kus-B  propedia_aws_19k/docked_pdbs/3kus_B_5h7h_C_ref...   \n",
       "\n",
       "      Peptide Sequence                                     cluster_center  \\\n",
       "203            RSLXAPG  5to3-A-B|Prothrombin,Thrombomodulin|Prothrombi...   \n",
       "18865     HKXLHRXLQDSX                                    6f08-N-J|14-3-3   \n",
       "8111         SLLKKLLLA                                             1k74_D   \n",
       "1522           SLIPPDK                           1w80-P-A|ADAPTER-RELATED   \n",
       "9185              WRVP                     1jgn-B-A|polyadenylate-binding   \n",
       "\n",
       "       has_parse_and_featurize_error  \n",
       "203                                0  \n",
       "18865                              0  \n",
       "8111                               0  \n",
       "1522                               0  \n",
       "9185                               0  "
      ]
     },
     "execution_count": 212,
     "metadata": {},
     "output_type": "execute_result"
    }
   ],
   "source": [
    "test_sm_df.head()"
   ]
  },
  {
   "cell_type": "code",
   "execution_count": 213,
   "id": "ba438328",
   "metadata": {},
   "outputs": [
    {
     "data": {
      "text/plain": [
       "0    3034\n",
       "1    1509\n",
       "Name: label, dtype: int64"
      ]
     },
     "execution_count": 213,
     "metadata": {},
     "output_type": "execute_result"
    }
   ],
   "source": [
    "train_df['label'].value_counts()"
   ]
  },
  {
   "cell_type": "code",
   "execution_count": 214,
   "id": "4045cbd7",
   "metadata": {},
   "outputs": [
    {
     "data": {
      "text/plain": [
       "0    775\n",
       "1    361\n",
       "Name: label, dtype: int64"
      ]
     },
     "execution_count": 214,
     "metadata": {},
     "output_type": "execute_result"
    }
   ],
   "source": [
    "test_df['label'].value_counts()"
   ]
  },
  {
   "cell_type": "code",
   "execution_count": 215,
   "id": "5384d0cc",
   "metadata": {},
   "outputs": [
    {
     "data": {
      "text/html": [
       "<div>\n",
       "<style scoped>\n",
       "    .dataframe tbody tr th:only-of-type {\n",
       "        vertical-align: middle;\n",
       "    }\n",
       "\n",
       "    .dataframe tbody tr th {\n",
       "        vertical-align: top;\n",
       "    }\n",
       "\n",
       "    .dataframe thead th {\n",
       "        text-align: right;\n",
       "    }\n",
       "</style>\n",
       "<table border=\"1\" class=\"dataframe\">\n",
       "  <thead>\n",
       "    <tr style=\"text-align: right;\">\n",
       "      <th></th>\n",
       "      <th>Unnamed: 0</th>\n",
       "      <th>ligand_PDBID_chain</th>\n",
       "      <th>receptor_PDBID_chain</th>\n",
       "      <th>rmsd</th>\n",
       "    </tr>\n",
       "    <tr>\n",
       "      <th>docked_name</th>\n",
       "      <th></th>\n",
       "      <th></th>\n",
       "      <th></th>\n",
       "      <th></th>\n",
       "    </tr>\n",
       "  </thead>\n",
       "  <tbody>\n",
       "    <tr>\n",
       "      <th>5iqm_A_5iqm_F_refined.pdb</th>\n",
       "      <td>0</td>\n",
       "      <td>5iqm_F</td>\n",
       "      <td>5iqm_A</td>\n",
       "      <td>3.10067</td>\n",
       "    </tr>\n",
       "    <tr>\n",
       "      <th>6jbk_G_6jbk_B_refined.pdb</th>\n",
       "      <td>1</td>\n",
       "      <td>6jbk_B</td>\n",
       "      <td>6jbk_G</td>\n",
       "      <td>4.82671</td>\n",
       "    </tr>\n",
       "    <tr>\n",
       "      <th>2gzd_B_2gzd_D_refined.pdb</th>\n",
       "      <td>2</td>\n",
       "      <td>2gzd_D</td>\n",
       "      <td>2gzd_B</td>\n",
       "      <td>1.49847</td>\n",
       "    </tr>\n",
       "    <tr>\n",
       "      <th>5mer_A_5mer_C_refined.pdb</th>\n",
       "      <td>3</td>\n",
       "      <td>5mer_C</td>\n",
       "      <td>5mer_A</td>\n",
       "      <td>0.36982</td>\n",
       "    </tr>\n",
       "    <tr>\n",
       "      <th>1rmh_B_1rmh_C_refined.pdb</th>\n",
       "      <td>4</td>\n",
       "      <td>1rmh_C</td>\n",
       "      <td>1rmh_B</td>\n",
       "      <td>0.27776</td>\n",
       "    </tr>\n",
       "  </tbody>\n",
       "</table>\n",
       "</div>"
      ],
      "text/plain": [
       "                           Unnamed: 0 ligand_PDBID_chain receptor_PDBID_chain  \\\n",
       "docked_name                                                                     \n",
       "5iqm_A_5iqm_F_refined.pdb           0             5iqm_F               5iqm_A   \n",
       "6jbk_G_6jbk_B_refined.pdb           1             6jbk_B               6jbk_G   \n",
       "2gzd_B_2gzd_D_refined.pdb           2             2gzd_D               2gzd_B   \n",
       "5mer_A_5mer_C_refined.pdb           3             5mer_C               5mer_A   \n",
       "1rmh_B_1rmh_C_refined.pdb           4             1rmh_C               1rmh_B   \n",
       "\n",
       "                              rmsd  \n",
       "docked_name                         \n",
       "5iqm_A_5iqm_F_refined.pdb  3.10067  \n",
       "6jbk_G_6jbk_B_refined.pdb  4.82671  \n",
       "2gzd_B_2gzd_D_refined.pdb  1.49847  \n",
       "5mer_A_5mer_C_refined.pdb  0.36982  \n",
       "1rmh_B_1rmh_C_refined.pdb  0.27776  "
      ]
     },
     "execution_count": 215,
     "metadata": {},
     "output_type": "execute_result"
    }
   ],
   "source": [
    "rmsd_train = pd.read_csv(\n",
    "    os.path.join(DATA_DIR, 'rmsd_refined_data_train.csv'),\n",
    "    index_col='docked_name'\n",
    ")\n",
    "\n",
    "rmsd_test = pd.read_csv(\n",
    "    os.path.join(DATA_DIR, 'rmsd_refined_data_test.csv'),\n",
    "    index_col='docked_name'\n",
    ")\n",
    "rmsd_train.head()"
   ]
  },
  {
   "cell_type": "code",
   "execution_count": 216,
   "id": "7c4b92f4",
   "metadata": {},
   "outputs": [
    {
     "name": "stdout",
     "output_type": "stream",
     "text": [
      "(1469, 8) (355, 8)\n"
     ]
    }
   ],
   "source": [
    "selfdock_train_df = pd.read_csv(\n",
    "    os.path.join(DATA_DIR, 'selfdock_train_aws/docked_data.csv'),\n",
    "    index_col=0\n",
    ").rename(columns={\n",
    "    'ligand_chain': 'ligand_chain_id',\n",
    "    'receptor_chain': 'receptor_chain_id',\n",
    "    'ligand_PDBID' : 'ligand_PDBID_chain',\n",
    "    'receptor_PDBID' : 'receptor_PDBID_chain',    \n",
    "}).merge(\n",
    "    rmsd_train[['rmsd']],\n",
    "    left_on='docked_name',\n",
    "    right_index=True,\n",
    "    how='left'\n",
    ")\n",
    "selfdock_train_df['ligand_PDBID_chain'] = selfdock_train_df.apply(\n",
    "    lambda row: row['ligand_PDBID_chain'] + '-' + row['docked_name'].split('_')[3],\n",
    "    axis=1\n",
    ")\n",
    "selfdock_train_df['receptor_PDBID_chain'] = selfdock_train_df.apply(\n",
    "    lambda row: row['receptor_PDBID_chain'] + '-' + row['docked_name'].split('_')[1],\n",
    "    axis=1\n",
    ")\n",
    "\n",
    "\n",
    "selfdock_train_df['label'] = 1\n",
    "selfdock_train_df['pdb_file'] = selfdock_train_df['docked_name'].map(\n",
    "    lambda x: f'selfdock_train_aws/docked_pdbs/{x}'\n",
    ")\n",
    "\n",
    "selfdock_test_df = pd.read_csv(\n",
    "    os.path.join(DATA_DIR, 'selfdock_test_aws/docked_data.csv'),\n",
    "    index_col=0\n",
    ").rename(columns={\n",
    "    'ligand_chain': 'ligand_chain_id',\n",
    "    'receptor_chain': 'receptor_chain_id',\n",
    "    'ligand_PDBID' : 'ligand_PDBID_chain',\n",
    "    'receptor_PDBID' : 'receptor_PDBID_chain',\n",
    "}).merge(\n",
    "    rmsd_test[['rmsd']],\n",
    "    left_on='docked_name',\n",
    "    right_index=True,\n",
    "    how='left'\n",
    ")\n",
    "\n",
    "selfdock_test_df['ligand_PDBID_chain'] = selfdock_test_df.apply(\n",
    "    lambda row: row['ligand_PDBID_chain'] + '-' + row['docked_name'].split('_')[3],\n",
    "    axis=1    \n",
    ")\n",
    "selfdock_test_df['receptor_PDBID_chain'] = selfdock_test_df.apply(\n",
    "    lambda row: row['receptor_PDBID_chain'] + '-' + row['docked_name'].split('_')[1],\n",
    "    axis=1    \n",
    ")\n",
    "\n",
    "\n",
    "selfdock_test_df['label'] = 1\n",
    "selfdock_test_df['pdb_file'] = selfdock_test_df['docked_name'].map(\n",
    "    lambda x: f'selfdock_test_aws/docked_pdbs/{x}'\n",
    ")\n",
    "\n",
    "\n",
    "print(selfdock_train_df.shape, selfdock_test_df.shape)"
   ]
  },
  {
   "cell_type": "code",
   "execution_count": 217,
   "id": "4e655fd2",
   "metadata": {},
   "outputs": [
    {
     "data": {
      "text/html": [
       "<div>\n",
       "<style scoped>\n",
       "    .dataframe tbody tr th:only-of-type {\n",
       "        vertical-align: middle;\n",
       "    }\n",
       "\n",
       "    .dataframe tbody tr th {\n",
       "        vertical-align: top;\n",
       "    }\n",
       "\n",
       "    .dataframe thead th {\n",
       "        text-align: right;\n",
       "    }\n",
       "</style>\n",
       "<table border=\"1\" class=\"dataframe\">\n",
       "  <thead>\n",
       "    <tr style=\"text-align: right;\">\n",
       "      <th></th>\n",
       "      <th>ligand_PDBID_chain</th>\n",
       "      <th>receptor_PDBID_chain</th>\n",
       "      <th>docked_name</th>\n",
       "      <th>ligand_chain_id</th>\n",
       "      <th>receptor_chain_id</th>\n",
       "      <th>rmsd</th>\n",
       "      <th>label</th>\n",
       "      <th>pdb_file</th>\n",
       "    </tr>\n",
       "  </thead>\n",
       "  <tbody>\n",
       "    <tr>\n",
       "      <th>0</th>\n",
       "      <td>1a2c-L</td>\n",
       "      <td>1a2c-H</td>\n",
       "      <td>1a2c_H_1a2c_L_refined.pdb</td>\n",
       "      <td>X</td>\n",
       "      <td>H</td>\n",
       "      <td>0.00000</td>\n",
       "      <td>1</td>\n",
       "      <td>selfdock_test_aws/docked_pdbs/1a2c_H_1a2c_L_re...</td>\n",
       "    </tr>\n",
       "    <tr>\n",
       "      <th>1</th>\n",
       "      <td>1a5g-L</td>\n",
       "      <td>1a5g-H</td>\n",
       "      <td>1a5g_H_1a5g_L_refined.pdb</td>\n",
       "      <td>X</td>\n",
       "      <td>H</td>\n",
       "      <td>0.86906</td>\n",
       "      <td>1</td>\n",
       "      <td>selfdock_test_aws/docked_pdbs/1a5g_H_1a5g_L_re...</td>\n",
       "    </tr>\n",
       "    <tr>\n",
       "      <th>2</th>\n",
       "      <td>1a61-L</td>\n",
       "      <td>1a61-H</td>\n",
       "      <td>1a61_H_1a61_L_refined.pdb</td>\n",
       "      <td>X</td>\n",
       "      <td>H</td>\n",
       "      <td>0.61090</td>\n",
       "      <td>1</td>\n",
       "      <td>selfdock_test_aws/docked_pdbs/1a61_H_1a61_L_re...</td>\n",
       "    </tr>\n",
       "    <tr>\n",
       "      <th>3</th>\n",
       "      <td>1ay6-L</td>\n",
       "      <td>1ay6-H</td>\n",
       "      <td>1ay6_H_1ay6_L_refined.pdb</td>\n",
       "      <td>X</td>\n",
       "      <td>H</td>\n",
       "      <td>1.10492</td>\n",
       "      <td>1</td>\n",
       "      <td>selfdock_test_aws/docked_pdbs/1ay6_H_1ay6_L_re...</td>\n",
       "    </tr>\n",
       "    <tr>\n",
       "      <th>4</th>\n",
       "      <td>1bb0-C</td>\n",
       "      <td>1bb0-B</td>\n",
       "      <td>1bb0_B_1bb0_C_refined.pdb</td>\n",
       "      <td>X</td>\n",
       "      <td>B</td>\n",
       "      <td>0.76091</td>\n",
       "      <td>1</td>\n",
       "      <td>selfdock_test_aws/docked_pdbs/1bb0_B_1bb0_C_re...</td>\n",
       "    </tr>\n",
       "  </tbody>\n",
       "</table>\n",
       "</div>"
      ],
      "text/plain": [
       "  ligand_PDBID_chain receptor_PDBID_chain                docked_name  \\\n",
       "0             1a2c-L               1a2c-H  1a2c_H_1a2c_L_refined.pdb   \n",
       "1             1a5g-L               1a5g-H  1a5g_H_1a5g_L_refined.pdb   \n",
       "2             1a61-L               1a61-H  1a61_H_1a61_L_refined.pdb   \n",
       "3             1ay6-L               1ay6-H  1ay6_H_1ay6_L_refined.pdb   \n",
       "4             1bb0-C               1bb0-B  1bb0_B_1bb0_C_refined.pdb   \n",
       "\n",
       "  ligand_chain_id receptor_chain_id     rmsd  label  \\\n",
       "0               X                 H  0.00000      1   \n",
       "1               X                 H  0.86906      1   \n",
       "2               X                 H  0.61090      1   \n",
       "3               X                 H  1.10492      1   \n",
       "4               X                 B  0.76091      1   \n",
       "\n",
       "                                            pdb_file  \n",
       "0  selfdock_test_aws/docked_pdbs/1a2c_H_1a2c_L_re...  \n",
       "1  selfdock_test_aws/docked_pdbs/1a5g_H_1a5g_L_re...  \n",
       "2  selfdock_test_aws/docked_pdbs/1a61_H_1a61_L_re...  \n",
       "3  selfdock_test_aws/docked_pdbs/1ay6_H_1ay6_L_re...  \n",
       "4  selfdock_test_aws/docked_pdbs/1bb0_B_1bb0_C_re...  "
      ]
     },
     "execution_count": 217,
     "metadata": {},
     "output_type": "execute_result"
    }
   ],
   "source": [
    "selfdock_test_df.head()"
   ]
  },
  {
   "cell_type": "code",
   "execution_count": 218,
   "id": "99f189e0",
   "metadata": {},
   "outputs": [
    {
     "data": {
      "text/html": [
       "<div>\n",
       "<style scoped>\n",
       "    .dataframe tbody tr th:only-of-type {\n",
       "        vertical-align: middle;\n",
       "    }\n",
       "\n",
       "    .dataframe tbody tr th {\n",
       "        vertical-align: top;\n",
       "    }\n",
       "\n",
       "    .dataframe thead th {\n",
       "        text-align: right;\n",
       "    }\n",
       "</style>\n",
       "<table border=\"1\" class=\"dataframe\">\n",
       "  <thead>\n",
       "    <tr style=\"text-align: right;\">\n",
       "      <th></th>\n",
       "      <th>ligand_PDBID_chain</th>\n",
       "      <th>receptor_PDBID_chain</th>\n",
       "      <th>docked_name</th>\n",
       "      <th>ligand_chain_id</th>\n",
       "      <th>receptor_chain_id</th>\n",
       "      <th>rmsd</th>\n",
       "      <th>label</th>\n",
       "      <th>pdb_file</th>\n",
       "    </tr>\n",
       "  </thead>\n",
       "  <tbody>\n",
       "    <tr>\n",
       "      <th>0</th>\n",
       "      <td>1a2c-L</td>\n",
       "      <td>1a2c-H</td>\n",
       "      <td>1a2c_H_1a2c_L_refined.pdb</td>\n",
       "      <td>X</td>\n",
       "      <td>H</td>\n",
       "      <td>0.00000</td>\n",
       "      <td>1</td>\n",
       "      <td>selfdock_test_aws/docked_pdbs/1a2c_H_1a2c_L_re...</td>\n",
       "    </tr>\n",
       "    <tr>\n",
       "      <th>1</th>\n",
       "      <td>1a5g-L</td>\n",
       "      <td>1a5g-H</td>\n",
       "      <td>1a5g_H_1a5g_L_refined.pdb</td>\n",
       "      <td>X</td>\n",
       "      <td>H</td>\n",
       "      <td>0.86906</td>\n",
       "      <td>1</td>\n",
       "      <td>selfdock_test_aws/docked_pdbs/1a5g_H_1a5g_L_re...</td>\n",
       "    </tr>\n",
       "    <tr>\n",
       "      <th>2</th>\n",
       "      <td>1a61-L</td>\n",
       "      <td>1a61-H</td>\n",
       "      <td>1a61_H_1a61_L_refined.pdb</td>\n",
       "      <td>X</td>\n",
       "      <td>H</td>\n",
       "      <td>0.61090</td>\n",
       "      <td>1</td>\n",
       "      <td>selfdock_test_aws/docked_pdbs/1a61_H_1a61_L_re...</td>\n",
       "    </tr>\n",
       "    <tr>\n",
       "      <th>3</th>\n",
       "      <td>1ay6-L</td>\n",
       "      <td>1ay6-H</td>\n",
       "      <td>1ay6_H_1ay6_L_refined.pdb</td>\n",
       "      <td>X</td>\n",
       "      <td>H</td>\n",
       "      <td>1.10492</td>\n",
       "      <td>1</td>\n",
       "      <td>selfdock_test_aws/docked_pdbs/1ay6_H_1ay6_L_re...</td>\n",
       "    </tr>\n",
       "    <tr>\n",
       "      <th>4</th>\n",
       "      <td>1bb0-C</td>\n",
       "      <td>1bb0-B</td>\n",
       "      <td>1bb0_B_1bb0_C_refined.pdb</td>\n",
       "      <td>X</td>\n",
       "      <td>B</td>\n",
       "      <td>0.76091</td>\n",
       "      <td>1</td>\n",
       "      <td>selfdock_test_aws/docked_pdbs/1bb0_B_1bb0_C_re...</td>\n",
       "    </tr>\n",
       "  </tbody>\n",
       "</table>\n",
       "</div>"
      ],
      "text/plain": [
       "  ligand_PDBID_chain receptor_PDBID_chain                docked_name  \\\n",
       "0             1a2c-L               1a2c-H  1a2c_H_1a2c_L_refined.pdb   \n",
       "1             1a5g-L               1a5g-H  1a5g_H_1a5g_L_refined.pdb   \n",
       "2             1a61-L               1a61-H  1a61_H_1a61_L_refined.pdb   \n",
       "3             1ay6-L               1ay6-H  1ay6_H_1ay6_L_refined.pdb   \n",
       "4             1bb0-C               1bb0-B  1bb0_B_1bb0_C_refined.pdb   \n",
       "\n",
       "  ligand_chain_id receptor_chain_id     rmsd  label  \\\n",
       "0               X                 H  0.00000      1   \n",
       "1               X                 H  0.86906      1   \n",
       "2               X                 H  0.61090      1   \n",
       "3               X                 H  1.10492      1   \n",
       "4               X                 B  0.76091      1   \n",
       "\n",
       "                                            pdb_file  \n",
       "0  selfdock_test_aws/docked_pdbs/1a2c_H_1a2c_L_re...  \n",
       "1  selfdock_test_aws/docked_pdbs/1a5g_H_1a5g_L_re...  \n",
       "2  selfdock_test_aws/docked_pdbs/1a61_H_1a61_L_re...  \n",
       "3  selfdock_test_aws/docked_pdbs/1ay6_H_1ay6_L_re...  \n",
       "4  selfdock_test_aws/docked_pdbs/1bb0_B_1bb0_C_re...  "
      ]
     },
     "execution_count": 218,
     "metadata": {},
     "output_type": "execute_result"
    }
   ],
   "source": [
    "selfdock_test_df.head()"
   ]
  },
  {
   "cell_type": "code",
   "execution_count": 219,
   "id": "a88f7613",
   "metadata": {},
   "outputs": [],
   "source": [
    "# selfdock_train_df.rmsd.describe()"
   ]
  },
  {
   "cell_type": "code",
   "execution_count": 220,
   "id": "1d1bfa73",
   "metadata": {},
   "outputs": [],
   "source": [
    "# selfdock_test_df.rmsd.describe()"
   ]
  },
  {
   "cell_type": "code",
   "execution_count": 221,
   "id": "fe697c3c",
   "metadata": {},
   "outputs": [
    {
     "name": "stdout",
     "output_type": "stream",
     "text": [
      "(4503, 12) (1130, 12)\n"
     ]
    }
   ],
   "source": [
    "# replace positive rows in train_sm_df and test_sm_df\n",
    "train_sm_df = train_sm_df.loc[train_sm_df['label'] == 0]\n",
    "train_sm_df = pd.concat([train_sm_df, selfdock_train_df])\\\n",
    "    .sample(frac=1, random_state=42)\n",
    "\n",
    "\n",
    "test_sm_df = test_sm_df.loc[test_sm_df['label'] == 0]\n",
    "test_sm_df = pd.concat([test_sm_df, selfdock_test_df])\n",
    "\n",
    "print(train_sm_df.shape, test_sm_df.shape)"
   ]
  },
  {
   "cell_type": "code",
   "execution_count": 222,
   "id": "56aa06ae",
   "metadata": {},
   "outputs": [],
   "source": [
    "train_sm_df.to_csv(\n",
    "    os.path.join(DATA_DIR, 'train_small_selfdock.csv')\n",
    ")\n",
    "test_sm_df.to_csv(\n",
    "    os.path.join(DATA_DIR, 'test_small_selfdock.csv')\n",
    ")"
   ]
  },
  {
   "cell_type": "code",
   "execution_count": 223,
   "id": "0695e19e",
   "metadata": {},
   "outputs": [
    {
     "data": {
      "text/plain": [
       "ligand_PDBID_chain               4503\n",
       "receptor_chain_id                4503\n",
       "label                            4503\n",
       "Receptor Sequence                3034\n",
       "ligand_chain_id                  4503\n",
       "receptor_PDBID_chain             4503\n",
       "pdb_file                         4503\n",
       "Peptide Sequence                 3034\n",
       "cluster_center                   3034\n",
       "has_parse_and_featurize_error    3034\n",
       "docked_name                      1469\n",
       "rmsd                             1469\n",
       "dtype: int64"
      ]
     },
     "execution_count": 223,
     "metadata": {},
     "output_type": "execute_result"
    }
   ],
   "source": [
    "train_sm_df.count()"
   ]
  },
  {
   "cell_type": "markdown",
   "id": "4b8f7d16",
   "metadata": {},
   "source": [
    "## Check individual complex structures\n",
    "1. https://www.rcsb.org/3d-sequence/148L: peptide sequence is AEKA on PDB\n",
    "2. https://www.rcsb.org/3d-sequence/1a07: peptide sequence is XYEX on PDB\n",
    "3. https://www.rcsb.org/3d-sequence/1a08: peptide sequence is XYEX on PDB\n",
    "4. https://www.rcsb.org/3d-sequence/8kme: peptide sequence is XFXKLPX on PDB"
   ]
  },
  {
   "cell_type": "code",
   "execution_count": 56,
   "id": "2a4bc8e5",
   "metadata": {},
   "outputs": [],
   "source": [
    "from ppi.data_utils import parse_pdb_structure, extract_coords, SloppyStructureBuilder\n",
    "from Bio.PDB import PDBParser\n",
    "from Bio.PDB.Polypeptide import is_aa\n",
    "from rdkit import Chem"
   ]
  },
  {
   "cell_type": "code",
   "execution_count": 57,
   "id": "a9aae602",
   "metadata": {},
   "outputs": [],
   "source": [
    "from ppi.data_utils import contact_map_utils as utils"
   ]
  },
  {
   "cell_type": "code",
   "execution_count": 58,
   "id": "13b0abee",
   "metadata": {},
   "outputs": [],
   "source": [
    "from IPython.display import display"
   ]
  },
  {
   "cell_type": "code",
   "execution_count": 59,
   "id": "e39db097",
   "metadata": {},
   "outputs": [],
   "source": [
    "# !ls -lh {DATA_DIR}/structures/complex/8kme* | head"
   ]
  },
  {
   "cell_type": "code",
   "execution_count": 60,
   "id": "53f82e0b",
   "metadata": {},
   "outputs": [],
   "source": [
    "# pdb_id = '148l_S_E'\n",
    "# pdb_id = '1a07_C_A'\n",
    "# pdb_id = '8kme_4_2'\n",
    "pdb_id = '148l_S_E'\n",
    "\n",
    "pdb_parser = PDBParser(\n",
    "    QUIET=True,\n",
    "    PERMISSIVE=True,\n",
    "#     structure_builder=SloppyStructureBuilder(),\n",
    ")\n",
    "\n",
    "structure = pdb_parser.get_structure(\n",
    "    pdb_id, \n",
    "    os.path.join(DATA_DIR, 'structures/complex', f'{pdb_id}.pdb')                 \n",
    ")"
   ]
  },
  {
   "cell_type": "code",
   "execution_count": 61,
   "id": "e1524e30",
   "metadata": {},
   "outputs": [
    {
     "data": {
      "text/plain": [
       "dict_keys(['E', 'S'])"
      ]
     },
     "execution_count": 61,
     "metadata": {},
     "output_type": "execute_result"
    }
   ],
   "source": [
    "recs = extract_coords(structure)\n",
    "recs.keys()"
   ]
  },
  {
   "cell_type": "code",
   "execution_count": 62,
   "id": "140aefc7",
   "metadata": {},
   "outputs": [
    {
     "name": "stdout",
     "output_type": "stream",
     "text": [
      "E\n",
      "MNIFEMLRIDEGLRLKIYKDTEGYYEIGIGHLLTKSPSLNAAKSELDKAIGRNTNGVITKDEAEKLFNQDVDAAVRGILRNAKLKPVYDSLDAVRRAALINMVFQMGETGVAGFTNSLRMLQQKRWDEAAVNLAKSRWYNQTPNRAKRVITTFRTGTWDAYKN\n",
      "S\n",
      "AXXX\n"
     ]
    }
   ],
   "source": [
    "for key in recs:\n",
    "    print(key)\n",
    "    print(recs[key]['seq'])"
   ]
  },
  {
   "cell_type": "code",
   "execution_count": 63,
   "id": "9176eedc",
   "metadata": {},
   "outputs": [],
   "source": [
    "# peptide_chain_id = 'C'\n",
    "peptide_chain_id = 'S'\n",
    "# recs[peptide_chain_id]['coords']"
   ]
  },
  {
   "cell_type": "code",
   "execution_count": 64,
   "id": "b703cdd0",
   "metadata": {},
   "outputs": [],
   "source": [
    "# utils.residue_to_mol(chain)"
   ]
  },
  {
   "cell_type": "code",
   "execution_count": 65,
   "id": "1db593f9",
   "metadata": {},
   "outputs": [
    {
     "name": "stdout",
     "output_type": "stream",
     "text": [
      "<Residue ALA het=  resseq=166 icode= >\n"
     ]
    },
    {
     "data": {
      "image/png": "[encoded data removed]",
      "text/plain": [
       "<rdkit.Chem.rdchem.Mol at 0x7f170500bdc0>"
      ]
     },
     "metadata": {},
     "output_type": "display_data"
    },
    {
     "name": "stdout",
     "output_type": "stream",
     "text": [
      "<Residue FGA het=H_FGA resseq=167 icode= >\n"
     ]
    },
    {
     "data": {
      "image/png": "[encoded data removed]",
      "text/plain": [
       "<rdkit.Chem.rdchem.Mol at 0x7f17051041c0>"
      ]
     },
     "metadata": {},
     "output_type": "display_data"
    },
    {
     "name": "stdout",
     "output_type": "stream",
     "text": [
      "<Residue API het=H_API resseq=169 icode= >\n"
     ]
    },
    {
     "data": {
      "image/png": "[encoded data removed]",
      "text/plain": [
       "<rdkit.Chem.rdchem.Mol at 0x7f17051046a0>"
      ]
     },
     "metadata": {},
     "output_type": "display_data"
    },
    {
     "name": "stdout",
     "output_type": "stream",
     "text": [
      "<Residue DAL het=H_DAL resseq=170 icode= >\n"
     ]
    },
    {
     "data": {
      "image/png": "[encoded data removed]",
      "text/plain": [
       "<rdkit.Chem.rdchem.Mol at 0x7f1705104940>"
      ]
     },
     "metadata": {},
     "output_type": "display_data"
    },
    {
     "name": "stdout",
     "output_type": "stream",
     "text": [
      "<Residue MUB het=H_MUB resseq=165 icode= >\n"
     ]
    },
    {
     "data": {
      "image/png": "[encoded data removed]",
      "text/plain": [
       "<rdkit.Chem.rdchem.Mol at 0x7f17051090a0>"
      ]
     },
     "metadata": {},
     "output_type": "display_data"
    }
   ],
   "source": [
    "for chain in structure.get_chains():\n",
    "    if chain.id == peptide_chain_id:\n",
    "        break\n",
    "# try to convert peptide residues to rdkit objects\n",
    "peptide_coords = []\n",
    "for res in chain.get_residues():\n",
    "#     if is_aa(res):\n",
    "#     print(res, 'is AA?', is_aa(res))\n",
    "    print(res)\n",
    "    peptide_coords.append(utils.get_atom_coords(res))\n",
    "    res_mol = utils.residue_to_mol(res)\n",
    "    display(res_mol)"
   ]
  },
  {
   "cell_type": "markdown",
   "id": "fd3076e4",
   "metadata": {},
   "source": [
    "### Check negative pdb files"
   ]
  },
  {
   "cell_type": "code",
   "execution_count": 66,
   "id": "fcf03a91",
   "metadata": {},
   "outputs": [
    {
     "name": "stdout",
     "output_type": "stream",
     "text": [
      "receptor_PDBID                                                       1a2x\n",
      "ligand_PDBID                                                         1pcx\n",
      "docked_name                                     1a2x_A_1pcx_B_refined.pdb\n",
      "ligand_chain                                                            X\n",
      "receptor_chain                                                          A\n",
      "pdb_file                propedia_aws_19k/docked_pdbs/1a2x_A_1pcx_B_ref...\n",
      "receptor_PDBID_chain                                               1a2x-A\n",
      "ligand_PDBID_chain                                                 1pcx-B\n",
      "Peptide Sequence                                                 LASLESQS\n",
      "Receptor Sequence       DQQAEARSYLSEEMIAEFKAAFDMFDADGGGDISVKELGTVMRMLG...\n",
      "label                                                                   0\n",
      "Name: 1, dtype: object\n"
     ]
    }
   ],
   "source": [
    "idx = 1\n",
    "print(complex_df_neg.iloc[idx])\n",
    "pdb_id = complex_df_neg['docked_name'].iloc[idx]\n",
    "peptide_chain_id = complex_df_neg['ligand_chain'].iloc[idx]\n",
    "\n",
    "pdb_parser = PDBParser(\n",
    "    QUIET=True,\n",
    "    PERMISSIVE=True,\n",
    "#     structure_builder=SloppyStructureBuilder(),\n",
    ")\n",
    "\n",
    "structure = pdb_parser.get_structure(\n",
    "    pdb_id, \n",
    "    os.path.join(DATA_DIR, 'propedia_aws_19k/docked_pdbs', pdb_id)                 \n",
    ")"
   ]
  },
  {
   "cell_type": "code",
   "execution_count": 67,
   "id": "d9f2bc15",
   "metadata": {},
   "outputs": [
    {
     "data": {
      "text/plain": [
       "dict_keys(['A', 'X'])"
      ]
     },
     "execution_count": 67,
     "metadata": {},
     "output_type": "execute_result"
    }
   ],
   "source": [
    "recs = extract_coords(structure)\n",
    "recs.keys()"
   ]
  },
  {
   "cell_type": "code",
   "execution_count": 68,
   "id": "4aa771c2",
   "metadata": {},
   "outputs": [
    {
     "name": "stdout",
     "output_type": "stream",
     "text": [
      "A\n",
      "DQQAEARSYLSEEMIAEFKAAFDMFDADGGGDISVKELGTVMRMLGQTPTKEELDAIIEEVDEDGSGTIDFEEFLVMMVRQMKEDAKGKSEEELAECFRIFDRNADGYIDAEELAEIFRASGEHVTDEEIESLMKDGDKNNDGRIDFDEFLKMMEGVQ\n",
      "X\n",
      "ESQXLSAL\n"
     ]
    }
   ],
   "source": [
    "for key in recs:\n",
    "    print(key)\n",
    "    print(recs[key]['seq'])"
   ]
  },
  {
   "cell_type": "code",
   "execution_count": 69,
   "id": "6adc7851",
   "metadata": {},
   "outputs": [],
   "source": [
    "# recs['X']"
   ]
  },
  {
   "cell_type": "code",
   "execution_count": 70,
   "id": "60154ee6",
   "metadata": {},
   "outputs": [
    {
     "name": "stdout",
     "output_type": "stream",
     "text": [
      "<Residue GLU het=  resseq=5 icode= > is AA? True\n",
      "N[C@H](C=O)CCC(=O)O\n"
     ]
    },
    {
     "data": {
      "image/png": "[encoded data removed]",
      "text/plain": [
       "<rdkit.Chem.rdchem.Mol at 0x7f1704f19ca0>"
      ]
     },
     "metadata": {},
     "output_type": "display_data"
    },
    {
     "name": "stdout",
     "output_type": "stream",
     "text": [
      "<Residue SER het=  resseq=6 icode= > is AA? True\n",
      "N[C@H](C=O)CO\n"
     ]
    },
    {
     "data": {
      "image/png": "[encoded data removed]",
      "text/plain": [
       "<rdkit.Chem.rdchem.Mol at 0x7f1704f19f40>"
      ]
     },
     "metadata": {},
     "output_type": "display_data"
    },
    {
     "name": "stdout",
     "output_type": "stream",
     "text": [
      "<Residue GLN het=  resseq=7 icode= > is AA? True\n",
      "NC(=O)CC[C@H](N)C=O\n"
     ]
    },
    {
     "data": {
      "image/png": "[encoded data removed]",
      "text/plain": [
       "<rdkit.Chem.rdchem.Mol at 0x7f1704f197c0>"
      ]
     },
     "metadata": {},
     "output_type": "display_data"
    },
    {
     "name": "stdout",
     "output_type": "stream",
     "text": [
      "<Residue UNK het=H_UNK resseq=8 icode= > is AA? True\n",
      "CN.O\n"
     ]
    },
    {
     "data": {
      "image/png": "[encoded data removed]",
      "text/plain": [
       "<rdkit.Chem.rdchem.Mol at 0x7f1705104a00>"
      ]
     },
     "metadata": {},
     "output_type": "display_data"
    },
    {
     "name": "stdout",
     "output_type": "stream",
     "text": [
      "<Residue LEU het=  resseq=4 icode= > is AA? True\n",
      "CC(C)C[C@H](N)C=O\n"
     ]
    },
    {
     "data": {
      "image/png": "[encoded data removed]",
      "text/plain": [
       "<rdkit.Chem.rdchem.Mol at 0x7f1704f2b280>"
      ]
     },
     "metadata": {},
     "output_type": "display_data"
    },
    {
     "name": "stdout",
     "output_type": "stream",
     "text": [
      "<Residue SER het=  resseq=3 icode= > is AA? True\n",
      "N[C@H](C=O)CO\n"
     ]
    },
    {
     "data": {
      "image/png": "[encoded data removed]",
      "text/plain": [
       "<rdkit.Chem.rdchem.Mol at 0x7f1704f2b580>"
      ]
     },
     "metadata": {},
     "output_type": "display_data"
    },
    {
     "name": "stdout",
     "output_type": "stream",
     "text": [
      "<Residue ALA het=  resseq=2 icode= > is AA? True\n",
      "C[C@H](N)C=O\n"
     ]
    },
    {
     "data": {
      "image/png": "[encoded data removed]",
      "text/plain": [
       "<rdkit.Chem.rdchem.Mol at 0x7f1704f2b820>"
      ]
     },
     "metadata": {},
     "output_type": "display_data"
    },
    {
     "name": "stdout",
     "output_type": "stream",
     "text": [
      "<Residue LEU het=  resseq=1 icode= > is AA? True\n",
      "CC(C)C[C@H](N)C=O\n"
     ]
    },
    {
     "data": {
      "image/png": "[encoded data removed]",
      "text/plain": [
       "<rdkit.Chem.rdchem.Mol at 0x7f1704f2bc40>"
      ]
     },
     "metadata": {},
     "output_type": "display_data"
    }
   ],
   "source": [
    "for chain in structure.get_chains():\n",
    "    if chain.id == peptide_chain_id:\n",
    "        break\n",
    "\n",
    "# try to convert peptide residues to rdkit objects\n",
    "peptide_coords = []\n",
    "for res in chain.get_residues():\n",
    "    print(res, 'is AA?', is_aa(res))\n",
    "    peptide_coords.append(utils.get_atom_coords(res))\n",
    "    res_mol = utils.residue_to_mol(res)\n",
    "    print(Chem.MolToSmiles(res_mol))\n",
    "    display(res_mol)        "
   ]
  },
  {
   "cell_type": "code",
   "execution_count": 71,
   "id": "b525bc82",
   "metadata": {},
   "outputs": [
    {
     "name": "stdout",
     "output_type": "stream",
     "text": [
      "<Residue LEU het=  resseq=1 icode= >\n"
     ]
    },
    {
     "data": {
      "text/plain": [
       "10"
      ]
     },
     "execution_count": 71,
     "metadata": {},
     "output_type": "execute_result"
    }
   ],
   "source": [
    "print(res)\n",
    "len([atom for atom in res.get_atoms()])"
   ]
  },
  {
   "cell_type": "code",
   "execution_count": 72,
   "id": "d94f4bed",
   "metadata": {},
   "outputs": [],
   "source": [
    "import matplotlib\n",
    "\n",
    "def plot_backbone(rec: dict, ax):\n",
    "    '''\n",
    "    3d plot for the backbone atoms from a chain.\n",
    "    '''\n",
    "    coords = np.asarray(rec['coords'])\n",
    "    atoms = [\"N\", \"CA\", \"C\", \"O\"]\n",
    "    for i, atom in enumerate(atoms):\n",
    "        ax.scatter(coords[:, i, 0],\n",
    "                   coords[:, i, 1],\n",
    "                   coords[:, i, 2],\n",
    "                   label='%s:%s' % (rec['name'], atom)\n",
    "                  );\n",
    "\n",
    "    # connect backbone atoms sequentially\n",
    "    coords_stacked = coords.reshape(-1, 3)\n",
    "    N_atoms = coords_stacked.shape[0]\n",
    "    edge_pos = np.array([(coords_stacked[u], coords_stacked[u+1]) \\\n",
    "                         for u in range(N_atoms-1)])\n",
    "\n",
    "    # Plot the edges\n",
    "    for vizedge in edge_pos:\n",
    "        ax.plot(*vizedge.T, color=\"tab:gray\")\n",
    "\n",
    "    return ax "
   ]
  },
  {
   "cell_type": "code",
   "execution_count": 73,
   "id": "ce400069",
   "metadata": {},
   "outputs": [
    {
     "data": {
      "text/plain": [
       "<matplotlib.legend.Legend at 0x7f170502d730>"
      ]
     },
     "execution_count": 73,
     "metadata": {},
     "output_type": "execute_result"
    },
    {
     "data": {
      "image/png": "[encoded data removed]",
      "text/plain": [
       "<Figure size 864x864 with 1 Axes>"
      ]
     },
     "metadata": {
      "needs_background": "light"
     },
     "output_type": "display_data"
    }
   ],
   "source": [
    "# Visualize 4 key atoms across amino acid residues in the pair of proteins\n",
    "fig = plt.figure(figsize=(12, 12))\n",
    "ax = fig.add_subplot(projection='3d')\n",
    "\n",
    "for chain_id in recs:\n",
    "    ax = plot_backbone(recs[chain_id], ax)\n",
    "    \n",
    "ax.legend()"
   ]
  },
  {
   "cell_type": "code",
   "execution_count": null,
   "id": "3c7ab436",
   "metadata": {},
   "outputs": [],
   "source": []
  }
 ],
 "metadata": {
  "kernelspec": {
   "display_name": "conda_pytorch_p38",
   "language": "python",
   "name": "conda_pytorch_p38"
  },
  "language_info": {
   "codemirror_mode": {
    "name": "ipython",
    "version": 3
   },
   "file_extension": ".py",
   "mimetype": "text/x-python",
   "name": "python",
   "nbconvert_exporter": "python",
   "pygments_lexer": "ipython3",
   "version": "3.8.12"
  }
 },
 "nbformat": 4,
 "nbformat_minor": 5
}
